{
  "nbformat": 4,
  "nbformat_minor": 0,
  "metadata": {
    "colab": {
      "name": "Final_version.ipynb",
      "provenance": [],
      "collapsed_sections": [
        "JN1yC21-4NZn",
        "ZEF1DFXb4OnQ",
        "VjC_mGnf46sO",
        "dAs-mTZD5Fuv",
        "n90O8ayH6YRx",
        "T41FuMt66_Is",
        "dzynRvYo7Ku7",
        "6ey0GKEa74gN",
        "pbHIebL49KbM",
        "aoKOH4_W-ABg",
        "wnVjvyUA-fy9",
        "Eg9xtMNAcbmu",
        "jIXwoFyEBNty",
        "4D2omEkGBomC",
        "GjPPACCpBvLJ",
        "3ZEy3oqKDEkT",
        "pP9IhYXhGd_E",
        "aJXVMf9KG4L4",
        "yz27GMsmEXF0",
        "HeVRmqqWEM65",
        "2nKHHJknESoj",
        "gfkgl7w7JZlD"
      ],
      "toc_visible": true,
      "include_colab_link": true
    },
    "kernelspec": {
      "name": "python3",
      "display_name": "Python 3"
    }
  },
  "cells": [
    {
      "cell_type": "markdown",
      "metadata": {
        "id": "view-in-github",
        "colab_type": "text"
      },
      "source": [
        "<a href=\"https://colab.research.google.com/github/johnyjchen/Google_Landmark_Recognition/blob/main/Final_version.ipynb\" target=\"_parent\"><img src=\"https://colab.research.google.com/assets/colab-badge.svg\" alt=\"Open In Colab\"/></a>"
      ]
    },
    {
      "cell_type": "markdown",
      "metadata": {
        "id": "JN1yC21-4NZn"
      },
      "source": [
        "# 1. Preparation:\r\n"
      ]
    },
    {
      "cell_type": "markdown",
      "metadata": {
        "id": "ZEF1DFXb4OnQ"
      },
      "source": [
        "### (a) import libraries"
      ]
    },
    {
      "cell_type": "code",
      "metadata": {
        "id": "u7JQSDzDrj6w"
      },
      "source": [
        "from google.colab import files\n",
        "from google.colab import drive\n",
        "from mpl_toolkits.mplot3d import Axes3D\n",
        "from sklearn.preprocessing import StandardScaler\n",
        "import matplotlib.pyplot as plt # plotting\n",
        "import numpy as np # linear algebra\n",
        "import os\n",
        "import pandas as pd\n",
        "import seaborn as sns\n",
        "import sys, requests, shutil, os"
      ],
      "execution_count": 1,
      "outputs": []
    },
    {
      "cell_type": "markdown",
      "metadata": {
        "id": "VjC_mGnf46sO"
      },
      "source": [
        "### (b) Mount notebook to Google Drive"
      ]
    },
    {
      "cell_type": "code",
      "metadata": {
        "colab": {
          "base_uri": "https://localhost:8080/"
        },
        "id": "04TOvEXtXRXk",
        "outputId": "c92e53c7-d2b4-4ab6-9f64-d1b0b0ea1432"
      },
      "source": [
        "drive.mount('/content/drive')"
      ],
      "execution_count": 2,
      "outputs": [
        {
          "output_type": "stream",
          "text": [
            "Mounted at /content/drive\n"
          ],
          "name": "stdout"
        }
      ]
    },
    {
      "cell_type": "markdown",
      "metadata": {
        "id": "dAs-mTZD5Fuv"
      },
      "source": [
        "### (c) Import dataset"
      ]
    },
    {
      "cell_type": "code",
      "metadata": {
        "id": "RbLTHfCc4pLy"
      },
      "source": [
        "path = \"/content/drive/My Drive/APM_B10/train.csv\" #directory for data\r\n",
        "df = pd.read_csv(path)"
      ],
      "execution_count": 3,
      "outputs": []
    },
    {
      "cell_type": "code",
      "metadata": {
        "id": "4szxGOEpr4gg",
        "colab": {
          "base_uri": "https://localhost:8080/",
          "height": 194
        },
        "outputId": "50e0fa6d-87d7-4d21-e48e-c9b11e2cae77"
      },
      "source": [
        "df.head()"
      ],
      "execution_count": 4,
      "outputs": [
        {
          "output_type": "execute_result",
          "data": {
            "text/html": [
              "<div>\n",
              "<style scoped>\n",
              "    .dataframe tbody tr th:only-of-type {\n",
              "        vertical-align: middle;\n",
              "    }\n",
              "\n",
              "    .dataframe tbody tr th {\n",
              "        vertical-align: top;\n",
              "    }\n",
              "\n",
              "    .dataframe thead th {\n",
              "        text-align: right;\n",
              "    }\n",
              "</style>\n",
              "<table border=\"1\" class=\"dataframe\">\n",
              "  <thead>\n",
              "    <tr style=\"text-align: right;\">\n",
              "      <th></th>\n",
              "      <th>id</th>\n",
              "      <th>url</th>\n",
              "      <th>landmark_id</th>\n",
              "    </tr>\n",
              "  </thead>\n",
              "  <tbody>\n",
              "    <tr>\n",
              "      <th>0</th>\n",
              "      <td>97c0a12e07ae8dd5</td>\n",
              "      <td>http://lh4.ggpht.com/-f8xYA5l4apw/RSziSQVaABI/...</td>\n",
              "      <td>6347</td>\n",
              "    </tr>\n",
              "    <tr>\n",
              "      <th>1</th>\n",
              "      <td>650c989dd3493748</td>\n",
              "      <td>https://lh5.googleusercontent.com/-PUnMrX7oOyA...</td>\n",
              "      <td>12519</td>\n",
              "    </tr>\n",
              "    <tr>\n",
              "      <th>2</th>\n",
              "      <td>05e63ca9b2cde1f4</td>\n",
              "      <td>http://mw2.google.com/mw-panoramio/photos/medi...</td>\n",
              "      <td>264</td>\n",
              "    </tr>\n",
              "    <tr>\n",
              "      <th>3</th>\n",
              "      <td>08672eddcb2b7c93</td>\n",
              "      <td>http://lh3.ggpht.com/-9fgSxDYwhHA/SMvGEoltKTI/...</td>\n",
              "      <td>13287</td>\n",
              "    </tr>\n",
              "    <tr>\n",
              "      <th>4</th>\n",
              "      <td>fc49cb32ef7f1e89</td>\n",
              "      <td>http://lh6.ggpht.com/-UGAXxvPbr98/S-jGZbyMIPI/...</td>\n",
              "      <td>4018</td>\n",
              "    </tr>\n",
              "  </tbody>\n",
              "</table>\n",
              "</div>"
            ],
            "text/plain": [
              "                 id  ... landmark_id\n",
              "0  97c0a12e07ae8dd5  ...        6347\n",
              "1  650c989dd3493748  ...       12519\n",
              "2  05e63ca9b2cde1f4  ...         264\n",
              "3  08672eddcb2b7c93  ...       13287\n",
              "4  fc49cb32ef7f1e89  ...        4018\n",
              "\n",
              "[5 rows x 3 columns]"
            ]
          },
          "metadata": {
            "tags": []
          },
          "execution_count": 4
        }
      ]
    },
    {
      "cell_type": "code",
      "metadata": {
        "id": "4RbNfRaks32v",
        "colab": {
          "base_uri": "https://localhost:8080/"
        },
        "outputId": "2d7a6d52-ef30-47cc-b927-caabc1019c01"
      },
      "source": [
        "df.shape"
      ],
      "execution_count": 5,
      "outputs": [
        {
          "output_type": "execute_result",
          "data": {
            "text/plain": [
              "(1225029, 3)"
            ]
          },
          "metadata": {
            "tags": []
          },
          "execution_count": 5
        }
      ]
    },
    {
      "cell_type": "code",
      "metadata": {
        "id": "-pSmF5QrvT1h"
      },
      "source": [
        "data = df.copy()"
      ],
      "execution_count": 6,
      "outputs": []
    },
    {
      "cell_type": "markdown",
      "metadata": {
        "id": "n90O8ayH6YRx"
      },
      "source": [
        "# 2. EDA:\r\n"
      ]
    },
    {
      "cell_type": "markdown",
      "metadata": {
        "id": "T41FuMt66_Is"
      },
      "source": [
        "### (a) Sampling and data distribution"
      ]
    },
    {
      "cell_type": "code",
      "metadata": {
        "id": "b4K0dCns6amA"
      },
      "source": [
        "#Ref: https://towardsdatascience.com/google-landmark-recognition-using-transfer-learning-dde35cc760e1\r\n",
        "#Sample only landmark_id from 1000-2000 to save time\r\n",
        "landmark_list = [str(x) for x in list(range(1000,2000))]\r\n",
        "data_sample = df[df['landmark_id'].isin(landmark_list)]"
      ],
      "execution_count": 7,
      "outputs": []
    },
    {
      "cell_type": "code",
      "metadata": {
        "id": "4LrdJPEM6a0p",
        "colab": {
          "base_uri": "https://localhost:8080/",
          "height": 381
        },
        "outputId": "7f6f411d-e092-47e1-eecf-89b812546b68"
      },
      "source": [
        "import matplotlib.pyplot as plt\r\n",
        "%matplotlib inline\r\n",
        "from matplotlib.pyplot import subplots\r\n",
        "\r\n",
        "colors = np.array(['#4285f4','#34a853','#fbbc05','#ea4335'])\r\n",
        "#Define the order in which to display the graph\r\n",
        "order = ['1-5','5-10','10-50','50-100','100-200','200-500','>=500']\r\n",
        "f, (ax1, ax2) = plt.subplots(1, 2,figsize=(15,5))\r\n",
        "\r\n",
        "\r\n",
        "def plot_distribution(data_f, data_k, axis):\r\n",
        "    # data['landmark_id'].value_counts()\r\n",
        "    x=data_f.landmark_id.value_counts().index\r\n",
        "    y=pd.DataFrame(data_f.landmark_id.value_counts())\r\n",
        "\r\n",
        "    #Create a variable to group the number of image sin each class\r\n",
        "    y['Number of images'] = np.where(y['landmark_id']>=500,'>=500',y['landmark_id'])\r\n",
        "    y['Number of images'] = np.where((y['landmark_id']>=200) & (y['landmark_id']<500),'200-500',y['Number of images'])\r\n",
        "    y['Number of images'] = np.where((y['landmark_id']>=100) & (y['landmark_id']<200),'100-200',y['Number of images'])\r\n",
        "    y['Number of images'] = np.where((y['landmark_id']>=50) & (y['landmark_id']<100),'50-100',y['Number of images'])\r\n",
        "    y['Number of images'] = np.where((y['landmark_id']>=10) & (y['landmark_id']<50),'10-50',y['Number of images'])\r\n",
        "    y['Number of images'] = np.where((y['landmark_id']>=5) & (y['landmark_id']<10),'5-10',y['Number of images'])\r\n",
        "    y['Number of images'] = np.where((y['landmark_id']>=0) & (y['landmark_id']<5),'1-5',y['Number of images'])\r\n",
        "\r\n",
        "    y['Number of images'].value_counts().loc[order].plot(kind = 'bar',color = colors,width = 0.8, ax=axis)\r\n",
        "    axis.set_xlabel('Number of images')\r\n",
        "    axis.set_ylabel('Number of classes')\r\n",
        "    axis.set_title(data_k)\r\n",
        "    \r\n",
        "plot_distribution(data, 'Original', ax1)\r\n",
        "plot_distribution(data_sample, 'Sample', ax2)"
      ],
      "execution_count": 8,
      "outputs": [
        {
          "output_type": "display_data",
          "data": {
            "image/png": "[encoded data removed]",
            "text/plain": [
              "<Figure size 1080x360 with 2 Axes>"
            ]
          },
          "metadata": {
            "tags": [],
            "needs_background": "light"
          }
        }
      ]
    },
    {
      "cell_type": "markdown",
      "metadata": {
        "id": "B0O4wSjT7e07"
      },
      "source": [
        "Sample shows similar distribution as fullset of data."
      ]
    },
    {
      "cell_type": "markdown",
      "metadata": {
        "id": "dzynRvYo7Ku7"
      },
      "source": [
        "### (b) Display one image"
      ]
    },
    {
      "cell_type": "code",
      "metadata": {
        "id": "qEI54G2_vggB"
      },
      "source": [
        "from IPython.display import Image\n",
        "from IPython.core.display import HTML \n",
        "def display_image(url):\n",
        "    img_style = \"width: 500px; margin: 0px; float: left; border: 1px solid black;\"\n",
        "    image=f\"<img style='{img_style}' src='{url}' />\"\n",
        "    display(HTML(image))"
      ],
      "execution_count": 9,
      "outputs": []
    },
    {
      "cell_type": "code",
      "metadata": {
        "id": "lgYvDoT2w7TF",
        "colab": {
          "base_uri": "https://localhost:8080/",
          "height": 352
        },
        "outputId": "a09367aa-dc62-456c-d85c-c5f4484cd69b"
      },
      "source": [
        "display_image(df['url'][150])"
      ],
      "execution_count": 10,
      "outputs": [
        {
          "output_type": "display_data",
          "data": {
            "text/html": [
              "<img style='width: 500px; margin: 0px; float: left; border: 1px solid black;' src='http://lh6.ggpht.com/-LYYzEuFaKBM/SFPxyS5Rt-I/AAAAAAAABLs/jnEYNmk8DbY/s1600/' />"
            ],
            "text/plain": [
              "<IPython.core.display.HTML object>"
            ]
          },
          "metadata": {
            "tags": []
          }
        }
      ]
    },
    {
      "cell_type": "markdown",
      "metadata": {
        "id": "6ey0GKEa74gN"
      },
      "source": [
        "### (c) Further exploring and sampling"
      ]
    },
    {
      "cell_type": "code",
      "metadata": {
        "id": "RrWjWBeuxB4w",
        "colab": {
          "base_uri": "https://localhost:8080/"
        },
        "outputId": "c3bc8566-c40b-4b57-a0c7-3c7d47bd120a"
      },
      "source": [
        "#how many images does each landmark have?\r\n",
        "df['landmark_id'].value_counts()"
      ],
      "execution_count": 11,
      "outputs": [
        {
          "output_type": "execute_result",
          "data": {
            "text/plain": [
              "9633    49465\n",
              "6051    49238\n",
              "None    33763\n",
              "6599    22774\n",
              "9779    18069\n",
              "        ...  \n",
              "8835        1\n",
              "5575        1\n",
              "6224        1\n",
              "2952        1\n",
              "5015        1\n",
              "Name: landmark_id, Length: 14947, dtype: int64"
            ]
          },
          "metadata": {
            "tags": []
          },
          "execution_count": 11
        }
      ]
    },
    {
      "cell_type": "code",
      "metadata": {
        "id": "68AADcUFxGtN",
        "colab": {
          "base_uri": "https://localhost:8080/"
        },
        "outputId": "90c9f1ed-44da-48ff-8615-bbf4bd094bae"
      },
      "source": [
        "#how many null values are there?\r\n",
        "df.isnull().sum()"
      ],
      "execution_count": 12,
      "outputs": [
        {
          "output_type": "execute_result",
          "data": {
            "text/plain": [
              "id             0\n",
              "url            0\n",
              "landmark_id    0\n",
              "dtype: int64"
            ]
          },
          "metadata": {
            "tags": []
          },
          "execution_count": 12
        }
      ]
    },
    {
      "cell_type": "code",
      "metadata": {
        "id": "5grcI6pC3nqj",
        "colab": {
          "base_uri": "https://localhost:8080/"
        },
        "outputId": "b7a09d3a-5e78-4a79-e407-eedbaec076d6"
      },
      "source": [
        "#how many unqiue landmark class are there?\r\n",
        "len(df['landmark_id'].unique())"
      ],
      "execution_count": 13,
      "outputs": [
        {
          "output_type": "execute_result",
          "data": {
            "text/plain": [
              "14947"
            ]
          },
          "metadata": {
            "tags": []
          },
          "execution_count": 13
        }
      ]
    },
    {
      "cell_type": "code",
      "metadata": {
        "id": "UnWkkBsi3p-E",
        "colab": {
          "base_uri": "https://localhost:8080/"
        },
        "outputId": "da01bdb9-1608-4bd9-e4b9-3e2353661552"
      },
      "source": [
        "print(\"Number of classes under 100 occurences\",(df['landmark_id'].value_counts() <= 100).sum(),\n",
        "      'out of total number of categories',len(df['landmark_id'].unique()))"
      ],
      "execution_count": 14,
      "outputs": [
        {
          "output_type": "stream",
          "text": [
            "Number of classes under 100 occurences 12970 out of total number of categories 14947\n"
          ],
          "name": "stdout"
        }
      ]
    },
    {
      "cell_type": "code",
      "metadata": {
        "id": "6MzsYT4866hH"
      },
      "source": [
        "#keeping only classes with 100 or more images, to guarantee 1% test split later.\n",
        "filtered = df.groupby('landmark_id')['url'].filter(lambda x: len(x) >= 100)\n",
        "df_filter = df[df['url'].isin(filtered)]"
      ],
      "execution_count": 15,
      "outputs": []
    },
    {
      "cell_type": "code",
      "metadata": {
        "id": "sxBAFdh28nz3",
        "colab": {
          "base_uri": "https://localhost:8080/",
          "height": 399
        },
        "outputId": "7beccf1f-52b0-4ad5-b0c8-6548e6b31fd7"
      },
      "source": [
        "df_filter = df_filter.replace(to_replace='None', value=np.nan).dropna()\n",
        "df_filter\n",
        "#df_filter contains data without \"None\" as landmark_id AND only landmark_id with more than 100 urls"
      ],
      "execution_count": 16,
      "outputs": [
        {
          "output_type": "execute_result",
          "data": {
            "text/html": [
              "<div>\n",
              "<style scoped>\n",
              "    .dataframe tbody tr th:only-of-type {\n",
              "        vertical-align: middle;\n",
              "    }\n",
              "\n",
              "    .dataframe tbody tr th {\n",
              "        vertical-align: top;\n",
              "    }\n",
              "\n",
              "    .dataframe thead th {\n",
              "        text-align: right;\n",
              "    }\n",
              "</style>\n",
              "<table border=\"1\" class=\"dataframe\">\n",
              "  <thead>\n",
              "    <tr style=\"text-align: right;\">\n",
              "      <th></th>\n",
              "      <th>id</th>\n",
              "      <th>url</th>\n",
              "      <th>landmark_id</th>\n",
              "    </tr>\n",
              "  </thead>\n",
              "  <tbody>\n",
              "    <tr>\n",
              "      <th>0</th>\n",
              "      <td>97c0a12e07ae8dd5</td>\n",
              "      <td>http://lh4.ggpht.com/-f8xYA5l4apw/RSziSQVaABI/...</td>\n",
              "      <td>6347</td>\n",
              "    </tr>\n",
              "    <tr>\n",
              "      <th>1</th>\n",
              "      <td>650c989dd3493748</td>\n",
              "      <td>https://lh5.googleusercontent.com/-PUnMrX7oOyA...</td>\n",
              "      <td>12519</td>\n",
              "    </tr>\n",
              "    <tr>\n",
              "      <th>2</th>\n",
              "      <td>05e63ca9b2cde1f4</td>\n",
              "      <td>http://mw2.google.com/mw-panoramio/photos/medi...</td>\n",
              "      <td>264</td>\n",
              "    </tr>\n",
              "    <tr>\n",
              "      <th>5</th>\n",
              "      <td>056708de792326b9</td>\n",
              "      <td>https://lh3.googleusercontent.com/-nbz_XT1dGz4...</td>\n",
              "      <td>5046</td>\n",
              "    </tr>\n",
              "    <tr>\n",
              "      <th>6</th>\n",
              "      <td>6ae1e206c579f649</td>\n",
              "      <td>https://lh6.googleusercontent.com/-onL5-pK9nZI...</td>\n",
              "      <td>5554</td>\n",
              "    </tr>\n",
              "    <tr>\n",
              "      <th>...</th>\n",
              "      <td>...</td>\n",
              "      <td>...</td>\n",
              "      <td>...</td>\n",
              "    </tr>\n",
              "    <tr>\n",
              "      <th>1225024</th>\n",
              "      <td>4bb5a501e5b26a6a</td>\n",
              "      <td>https://lh6.googleusercontent.com/-mRrQU3t5cYw...</td>\n",
              "      <td>9737</td>\n",
              "    </tr>\n",
              "    <tr>\n",
              "      <th>1225025</th>\n",
              "      <td>2cd8a404796cfe0e</td>\n",
              "      <td>https://lh6.googleusercontent.com/-0UB5gFx6w7M...</td>\n",
              "      <td>7758</td>\n",
              "    </tr>\n",
              "    <tr>\n",
              "      <th>1225026</th>\n",
              "      <td>8733b8b469fb8c1b</td>\n",
              "      <td>http://lh3.ggpht.com/-TDQWNVvJQDI/SI3HZSA4D3I/...</td>\n",
              "      <td>13170</td>\n",
              "    </tr>\n",
              "    <tr>\n",
              "      <th>1225027</th>\n",
              "      <td>14dd9e8790397c83</td>\n",
              "      <td>https://lh4.googleusercontent.com/-anV4Xpo0UuM...</td>\n",
              "      <td>5669</td>\n",
              "    </tr>\n",
              "    <tr>\n",
              "      <th>1225028</th>\n",
              "      <td>4303049d5a6b5602</td>\n",
              "      <td>https://lh6.googleusercontent.com/-1pe3ldzCDAw...</td>\n",
              "      <td>4987</td>\n",
              "    </tr>\n",
              "  </tbody>\n",
              "</table>\n",
              "<p>935832 rows × 3 columns</p>\n",
              "</div>"
            ],
            "text/plain": [
              "                       id  ... landmark_id\n",
              "0        97c0a12e07ae8dd5  ...        6347\n",
              "1        650c989dd3493748  ...       12519\n",
              "2        05e63ca9b2cde1f4  ...         264\n",
              "5        056708de792326b9  ...        5046\n",
              "6        6ae1e206c579f649  ...        5554\n",
              "...                   ...  ...         ...\n",
              "1225024  4bb5a501e5b26a6a  ...        9737\n",
              "1225025  2cd8a404796cfe0e  ...        7758\n",
              "1225026  8733b8b469fb8c1b  ...       13170\n",
              "1225027  14dd9e8790397c83  ...        5669\n",
              "1225028  4303049d5a6b5602  ...        4987\n",
              "\n",
              "[935832 rows x 3 columns]"
            ]
          },
          "metadata": {
            "tags": []
          },
          "execution_count": 16
        }
      ]
    },
    {
      "cell_type": "markdown",
      "metadata": {
        "id": "pbHIebL49KbM"
      },
      "source": [
        "### (d) Preview mutiple images belong to same class"
      ]
    },
    {
      "cell_type": "code",
      "metadata": {
        "id": "cATub4G7-pT-"
      },
      "source": [
        "from IPython.display import Image\n",
        "from IPython.core.display import HTML \n",
        "\n",
        "def display_category(urls):\n",
        "    img_style = \"width: 180px; margin: 0px; float: left; border: 1px solid black;\"\n",
        "    images_list = ''.join([f\"<img style='{img_style}' src='{u}' />\" for _, u in urls.head(12).iteritems()])\n",
        "    display(HTML(images_list))"
      ],
      "execution_count": 17,
      "outputs": []
    },
    {
      "cell_type": "code",
      "metadata": {
        "id": "dZPd-HCZ-1Rc",
        "colab": {
          "base_uri": "https://localhost:8080/",
          "height": 638
        },
        "outputId": "c7ecfb12-b251-40f0-e7a6-2c7a185c407b"
      },
      "source": [
        "category = df_filter['landmark_id'].value_counts().keys()[4]\n",
        "urls = df_filter[df_filter['landmark_id'] == category]['url']\n",
        "display_category(urls)"
      ],
      "execution_count": 18,
      "outputs": [
        {
          "output_type": "display_data",
          "data": {
            "text/html": [
              "<img style='width: 180px; margin: 0px; float: left; border: 1px solid black;' src='https://lh6.googleusercontent.com/-R5XJicdfQ-s/RuP-hjicMxI/AAAAAAAACPs/GkhUNrnGySA/s1600/' /><img style='width: 180px; margin: 0px; float: left; border: 1px solid black;' src='https://lh4.googleusercontent.com/-5AXs7QT4cYA/TPvqqUjfgjI/AAAAAAAAC7A/gkh6P0lESeQ/rj/' /><img style='width: 180px; margin: 0px; float: left; border: 1px solid black;' src='https://lh3.googleusercontent.com/-sjO4fxMYVms/Rl3S5JDVVAI/AAAAAAAAAIM/HIv_4jS-14o/s1600/' /><img style='width: 180px; margin: 0px; float: left; border: 1px solid black;' src='https://lh4.googleusercontent.com/-J5GoxAi4tZs/SYl6oFQiixI/AAAAAAAAFic/4o8xzFZoMlU/s1600/' /><img style='width: 180px; margin: 0px; float: left; border: 1px solid black;' src='http://lh6.ggpht.com/-q_B-rCFOTJk/SaLvuaeGDHI/AAAAAAAAAg0/eurUyYw7guc/s1600/' /><img style='width: 180px; margin: 0px; float: left; border: 1px solid black;' src='https://lh4.googleusercontent.com/-bFtLD5sjFRg/Sms_TObAJjI/AAAAAAAADeQ/mSvcicaVpIw/s1600/' /><img style='width: 180px; margin: 0px; float: left; border: 1px solid black;' src='https://lh6.googleusercontent.com/-OKIxbtKPSJE/SN1kHim6aiI/AAAAAAAApTM/hZuESGitOy0/s1600/' /><img style='width: 180px; margin: 0px; float: left; border: 1px solid black;' src='http://lh5.ggpht.com/-sfFlxL4TyZQ/T99oFbJ0-eI/AAAAAAAABPY/3avgFth-heE/s1600/' /><img style='width: 180px; margin: 0px; float: left; border: 1px solid black;' src='https://lh6.googleusercontent.com/-5IIFE5JC01k/SOAE1P5tY6I/AAAAAAAAAj8/E5JcnNxza8g/s1600/' /><img style='width: 180px; margin: 0px; float: left; border: 1px solid black;' src='http://lh6.ggpht.com/-cTlyrzmliQU/RkEBmwippkI/AAAAAAAACEI/76610d9uyhM/s1600/' /><img style='width: 180px; margin: 0px; float: left; border: 1px solid black;' src='https://lh3.googleusercontent.com/-29LO6p-n0ao/T3xDjOAWB_I/AAAAAAAABRw/XLm3uG52OYA/s1600/' /><img style='width: 180px; margin: 0px; float: left; border: 1px solid black;' src='http://lh6.ggpht.com/-zPDc_xb7M84/Rvq9FyWwnZI/AAAAAAAABDU/3vpvFTLTk_Q/s1600/' />"
            ],
            "text/plain": [
              "<IPython.core.display.HTML object>"
            ]
          },
          "metadata": {
            "tags": []
          }
        }
      ]
    },
    {
      "cell_type": "markdown",
      "metadata": {
        "id": "aoKOH4_W-ABg"
      },
      "source": [
        "### (e) Final data sample"
      ]
    },
    {
      "cell_type": "code",
      "metadata": {
        "id": "-mxo4_PFBDgo"
      },
      "source": [
        "#Select only id from 1000-2000 to save time\n",
        "landmark_list = [str(x) for x in list(range(1000,2000))] #changed from 1000-3000 to 2000\n",
        "data_sample = df_filter[df_filter['landmark_id'].isin(landmark_list)]"
      ],
      "execution_count": 19,
      "outputs": []
    },
    {
      "cell_type": "code",
      "metadata": {
        "colab": {
          "base_uri": "https://localhost:8080/",
          "height": 17
        },
        "id": "DJqsJBx9lrCv",
        "outputId": "a3c0e4ca-1ae0-47b1-fc64-aed19d8d2257"
      },
      "source": [
        "#Save final sample as csv file to avoid re-running the above code everytime.\n",
        "data_sample.to_csv('clean_data.csv', index=False)\n",
        "files.download('clean_data.csv')\n",
        "#Need to write read.csv function if needed"
      ],
      "execution_count": 20,
      "outputs": [
        {
          "output_type": "display_data",
          "data": {
            "application/javascript": [
              "\n",
              "    async function download(id, filename, size) {\n",
              "      if (!google.colab.kernel.accessAllowed) {\n",
              "        return;\n",
              "      }\n",
              "      const div = document.createElement('div');\n",
              "      const label = document.createElement('label');\n",
              "      label.textContent = `Downloading \"${filename}\": `;\n",
              "      div.appendChild(label);\n",
              "      const progress = document.createElement('progress');\n",
              "      progress.max = size;\n",
              "      div.appendChild(progress);\n",
              "      document.body.appendChild(div);\n",
              "\n",
              "      const buffers = [];\n",
              "      let downloaded = 0;\n",
              "\n",
              "      const channel = await google.colab.kernel.comms.open(id);\n",
              "      // Send a message to notify the kernel that we're ready.\n",
              "      channel.send({})\n",
              "\n",
              "      for await (const message of channel.messages) {\n",
              "        // Send a message to notify the kernel that we're ready.\n",
              "        channel.send({})\n",
              "        if (message.buffers) {\n",
              "          for (const buffer of message.buffers) {\n",
              "            buffers.push(buffer);\n",
              "            downloaded += buffer.byteLength;\n",
              "            progress.value = downloaded;\n",
              "          }\n",
              "        }\n",
              "      }\n",
              "      const blob = new Blob(buffers, {type: 'application/binary'});\n",
              "      const a = document.createElement('a');\n",
              "      a.href = window.URL.createObjectURL(blob);\n",
              "      a.download = filename;\n",
              "      div.appendChild(a);\n",
              "      a.click();\n",
              "      div.remove();\n",
              "    }\n",
              "  "
            ],
            "text/plain": [
              "<IPython.core.display.Javascript object>"
            ]
          },
          "metadata": {
            "tags": []
          }
        },
        {
          "output_type": "display_data",
          "data": {
            "application/javascript": [
              "download(\"download_87ff7a20-9202-441c-b1eb-cf2ec5753b26\", \"clean_data.csv\", 5627833)"
            ],
            "text/plain": [
              "<IPython.core.display.Javascript object>"
            ]
          },
          "metadata": {
            "tags": []
          }
        }
      ]
    },
    {
      "cell_type": "markdown",
      "metadata": {
        "id": "bI6JYUAy-c6S"
      },
      "source": [
        "# 3. Downloading Images"
      ]
    },
    {
      "cell_type": "markdown",
      "metadata": {
        "id": "wnVjvyUA-fy9"
      },
      "source": [
        "### (a) Change URLs to resize images to target size"
      ]
    },
    {
      "cell_type": "code",
      "metadata": {
        "id": "XK-aIF2HfzjI",
        "colab": {
          "base_uri": "https://localhost:8080/"
        },
        "outputId": "31a84966-ef4e-40ad-c8c1-bc3d851a0858"
      },
      "source": [
        "#Ref: https://www.kaggle.com/lyakaap/fast-resized-image-download-python-3\n",
        "import re\n",
        "TARGET_SIZE = 96 #imports images of resolution 96x96\n",
        "\n",
        "def overwrite_urls(df):\n",
        "    def reso_overwrite(url_tail, reso=TARGET_SIZE):\n",
        "        pattern = 's[0-9]+'\n",
        "        search_result = re.match(pattern, url_tail)\n",
        "        if search_result is None:\n",
        "            return url_tail\n",
        "        else:\n",
        "            return 's{}'.format(reso)\n",
        "    \n",
        "    def join_url(parsed_url, s_reso):\n",
        "        parsed_url[-2] = s_reso\n",
        "        return '/'.join(parsed_url)\n",
        "    \n",
        "    df = df[df.url.apply(lambda x: len(x.split('/'))>1)]\n",
        "    parsed_url = df.url.apply(lambda x: x.split('/'))\n",
        "    train_url_tail = parsed_url.apply(lambda x: x[-2])\n",
        "    resos = train_url_tail.apply(lambda x: reso_overwrite(x, reso=TARGET_SIZE))\n",
        "\n",
        "    overwritten_df = pd.concat([parsed_url, resos], axis=1)\n",
        "    overwritten_df.columns = ['url', 's_reso']\n",
        "    df['url'] = overwritten_df.apply(lambda x: join_url(x['url'], x['s_reso']), axis=1)\n",
        "    return df\n",
        "\n",
        "data_sample_resize = overwrite_urls(data_sample)\n",
        "print ('1. URLs overwritten')"
      ],
      "execution_count": 21,
      "outputs": [
        {
          "output_type": "stream",
          "text": [
            "1. URLs overwritten\n"
          ],
          "name": "stdout"
        }
      ]
    },
    {
      "cell_type": "code",
      "metadata": {
        "id": "laN3ryatpJvB"
      },
      "source": [
        "#Identify images URL with panoramio that's no longer supported by Google\n",
        "bad_word='panoramio'\n",
        "panoramio_list=[]\n",
        "data_sample_resize['url']\n",
        "for i in data_sample_resize['url']:\n",
        "  if bad_word in i:\n",
        "    panoramio_list.append(i)"
      ],
      "execution_count": 22,
      "outputs": []
    },
    {
      "cell_type": "code",
      "metadata": {
        "id": "7dHgssVSf2l5",
        "colab": {
          "base_uri": "https://localhost:8080/"
        },
        "outputId": "463d63d2-6df7-4138-cd04-b3f2ceec680e"
      },
      "source": [
        "new=pd.DataFrame(columns = ['id','url','landmark_id'])\n",
        "new['url']=data_sample_resize['url'] == data_sample['url']\n",
        "new['url'].value_counts()"
      ],
      "execution_count": 23,
      "outputs": [
        {
          "output_type": "execute_result",
          "data": {
            "text/plain": [
              "False    45860\n",
              "True      7494\n",
              "Name: url, dtype: int64"
            ]
          },
          "metadata": {
            "tags": []
          },
          "execution_count": 23
        }
      ]
    },
    {
      "cell_type": "markdown",
      "metadata": {
        "id": "Eg9xtMNAcbmu"
      },
      "source": [
        "### (b) Train-Test split"
      ]
    },
    {
      "cell_type": "code",
      "metadata": {
        "id": "mIjRthXdBBMn",
        "colab": {
          "base_uri": "https://localhost:8080/"
        },
        "outputId": "27f05c77-2d76-462f-bfc1-96b66b178f2b"
      },
      "source": [
        "data_test = pd.DataFrame(columns = ['id','url','landmark_id'])\r\n",
        "data_training_all = pd.DataFrame(columns = ['id','url','landmark_id'])\r\n",
        "percent_test = 0.01 #takes 1% from each class as holdout data\r\n",
        "\r\n",
        "import random\r\n",
        "random.seed(42)\r\n",
        "for landmark_id in set(data_sample_resize['landmark_id']):\r\n",
        "    n=1\r\n",
        "    t = data_sample_resize[(data_sample_resize.landmark_id == landmark_id)] #get all images for a landmark id\r\n",
        "    i = 0\r\n",
        "    r =[]\r\n",
        "    while i < len(t.id):\r\n",
        "        it = i\r\n",
        "        r.append(t.id.iloc[it])  #create a list of all these images\r\n",
        "        i += 1\r\n",
        "        \r\n",
        "    test = random.sample(r,int(percent_test*len(r))) #randomly pick a sample of 1% images from list 'r'\r\n",
        "    training = list(set(r) - set(test))  #get the remaining images\r\n",
        "    data_t = data_sample_resize[data_sample_resize.id.isin(test)] #holdout dataset\r\n",
        "    data_tr = data_sample_resize[data_sample_resize.id.isin(training)] #training dataset\r\n",
        "    data_test = data_test.append(data_t)  \r\n",
        "    data_training_all = data_training_all.append(data_tr)\r\n",
        "    n+=1\r\n",
        "\r\n",
        "print ('2. train and test set created')"
      ],
      "execution_count": 24,
      "outputs": [
        {
          "output_type": "stream",
          "text": [
            "2. train and test set created\n"
          ],
          "name": "stdout"
        }
      ]
    },
    {
      "cell_type": "markdown",
      "metadata": {
        "id": "jIXwoFyEBNty"
      },
      "source": [
        "### (c) Train_Validation split"
      ]
    },
    {
      "cell_type": "code",
      "metadata": {
        "id": "2_89WJ0BBW6v",
        "colab": {
          "base_uri": "https://localhost:8080/"
        },
        "outputId": "e5d47c70-efb3-46df-86dc-08cb306fe05b"
      },
      "source": [
        "data_valid = pd.DataFrame(columns = ['id','url','landmark_id'])\r\n",
        "data_train = pd.DataFrame(columns = ['id','url','landmark_id'])\r\n",
        "percent_validation = 0.2 #takes 20% from each class as holdout data\r\n",
        "import random\r\n",
        "random.seed(42)\r\n",
        "for landmark_id in set(data_training_all['landmark_id']):\r\n",
        "    n=1\r\n",
        "    t = data_training_all[(data_training_all.landmark_id == landmark_id)]\r\n",
        "    i = 0\r\n",
        "    r =[]\r\n",
        "    while i < len(t.id):\r\n",
        "        it = i\r\n",
        "        r.append(t.id.iloc[it])\r\n",
        "        i += 1\r\n",
        "        \r\n",
        "    valid = random.sample(r,int(percent_validation*len(r)))\r\n",
        "    train = list(set(r) - set(valid)) \r\n",
        "    data_v = data_training_all[data_training_all.id.isin(valid)]\r\n",
        "    data_t = data_training_all[data_training_all.id.isin(train)]\r\n",
        "    data_valid = data_valid.append(data_v)\r\n",
        "    data_train = data_train.append(data_t)\r\n",
        "    n+=1\r\n",
        "\r\n",
        "print ('3. train and validation set created')"
      ],
      "execution_count": 25,
      "outputs": [
        {
          "output_type": "stream",
          "text": [
            "3. train and validation set created\n"
          ],
          "name": "stdout"
        }
      ]
    },
    {
      "cell_type": "markdown",
      "metadata": {
        "id": "4D2omEkGBomC"
      },
      "source": [
        "### (d) Check sizes after split"
      ]
    },
    {
      "cell_type": "code",
      "metadata": {
        "id": "XFHt0jjEBty2",
        "colab": {
          "base_uri": "https://localhost:8080/"
        },
        "outputId": "73351a84-8c82-4d6c-df3b-2db17fea7c6d"
      },
      "source": [
        "print (len(data_train))\r\n",
        "print (len(data_valid))\r\n",
        "print (len(data_test))"
      ],
      "execution_count": 26,
      "outputs": [
        {
          "output_type": "stream",
          "text": [
            "42355\n",
            "10525\n",
            "474\n"
          ],
          "name": "stdout"
        }
      ]
    },
    {
      "cell_type": "markdown",
      "metadata": {
        "id": "GjPPACCpBvLJ"
      },
      "source": [
        "### (e) Downloading Images to existing folders in drive"
      ]
    },
    {
      "cell_type": "markdown",
      "metadata": {
        "id": "0T2LAnsXB8z8"
      },
      "source": [
        "Create directories 'N_train_images_model', 'M_validation_images_model', 'N_test_images_from_train' inside 'Data' folder before running the code below.\r\n",
        "\r\n"
      ]
    },
    {
      "cell_type": "code",
      "metadata": {
        "id": "jx_ja2cOOreq"
      },
      "source": [
        "#function to fetch images\n",
        "def fetch_image(path,folder):\n",
        "    url=path\n",
        "    response=requests.get(url, stream=True)\n",
        "    path = '/content/drive/My Drive/APM_B10/'+ folder + '/image.jpg'\n",
        "    with open(path, 'wb') as out_file:\n",
        "        shutil.copyfileobj(response.raw, out_file)\n",
        "    del response"
      ],
      "execution_count": 27,
      "outputs": []
    },
    {
      "cell_type": "code",
      "metadata": {
        "id": "Fp2QG2W_wwI9"
      },
      "source": [
        "'''TRAIN SET - fetch images for the resized URLs and save in the already created directory train_images_model'''\r\n",
        "i=0\r\n",
        "for link in data_train['url']:              #looping over links to get images\r\n",
        "    if os.path.exists('../Data/N_train_images_model/'+str(data_train['id'].iloc[i])+'.jpg'):\r\n",
        "        i+=1\r\n",
        "        continue\r\n",
        "    fetch_image(link,'N_train_images_model')\r\n",
        "    os.rename('/content/drive/My Drive/APM_B10/N_train_images_model/image.jpg','/content/drive/My Drive/APM_B10/N_train_images_model/'+ str(data_train['id'].iloc[i])+ '.jpg')\r\n",
        "    i+=1\r\n",
        "#     if(i==50):   #uncomment to test in machine speed\r\n",
        "#         break \r\n",
        "print('4. train images fetched') "
      ],
      "execution_count": null,
      "outputs": []
    },
    {
      "cell_type": "code",
      "metadata": {
        "id": "kT3Rm51CPslc",
        "colab": {
          "base_uri": "https://localhost:8080/"
        },
        "outputId": "a0746632-d426-4659-c661-6329bb499be9"
      },
      "source": [
        "'''VALIDATION SET'''\n",
        "i=0\n",
        "for link in data_valid['url']:              #looping over links to get images\n",
        "    if os.path.exists('../Data/M_validation_images_model/'+str(data_valid['id'].iloc[i])+'.jpg'):\n",
        "        i+=1\n",
        "        continue\n",
        "    fetch_image(link,'M_validation_images_model')\n",
        "    os.rename('/content/drive/My Drive/APM_B10/M_validation_images_model/image.jpg','/content/drive/My Drive/APM_B10/M_validation_images_model/'+ str(data_valid['id'].iloc[i])+ '.jpg')\n",
        "    i+=1\n",
        "#     if(i==50):   #uncomment to test in your machine #took only 30 min?\n",
        "#         break\n",
        "print('5. Validation images fetched')"
      ],
      "execution_count": null,
      "outputs": [
        {
          "output_type": "stream",
          "text": [
            "5. Validation images fetched\n"
          ],
          "name": "stdout"
        }
      ]
    },
    {
      "cell_type": "code",
      "metadata": {
        "id": "u_f-UBOOCs68",
        "colab": {
          "base_uri": "https://localhost:8080/"
        },
        "outputId": "d0a9a4b2-ac33-4dbc-f6b4-e2da838fee16"
      },
      "source": [
        "'''TEST SET'''\n",
        "i=0\n",
        "for link in data_test['url']:              #looping over links to get images\n",
        "    if os.path.exists('../Data/N_test_images_from_train/'+str(data_test['id'].iloc[i])+'.jpg'):\n",
        "        i+=1\n",
        "        continue\n",
        "    fetch_image(link,'N_test_images_from_train')\n",
        "    os.rename('/content/drive/My Drive/APM_B10/N_test_images_from_train/image.jpg','/content/drive/My Drive/APM_B10/N_test_images_from_train/'+ str(data_test['id'].iloc[i])+ '.jpg')\n",
        "    i+=1\n",
        "    # if(i==10):   #uncomment to test in your machine\n",
        "    #     break\n",
        "print('6. Test images fetched') "
      ],
      "execution_count": null,
      "outputs": [
        {
          "output_type": "stream",
          "text": [
            "6. Test images fetched\n"
          ],
          "name": "stdout"
        }
      ]
    },
    {
      "cell_type": "markdown",
      "metadata": {
        "id": "3ZEy3oqKDEkT"
      },
      "source": [
        "# 4. Processing Downloaded Images"
      ]
    },
    {
      "cell_type": "code",
      "metadata": {
        "id": "VsjevJf3GcNU"
      },
      "source": [
        "#Data1 to be checked upon for next steps\r\n",
        "optimal_range = [str(x) for x in list(range(1000,2000))]\r\n",
        "data1 = df_filter[df_filter['landmark_id'].isin(optimal_range)]"
      ],
      "execution_count": 29,
      "outputs": []
    },
    {
      "cell_type": "markdown",
      "metadata": {
        "id": "pP9IhYXhGd_E"
      },
      "source": [
        "### (a) Function to create folders for each class within train, valid, and test"
      ]
    },
    {
      "cell_type": "code",
      "metadata": {
        "id": "8lw23pfvGvNM"
      },
      "source": [
        "import pandas as pd\r\n",
        "import os\r\n",
        "import shutil\r\n",
        "from shutil import copyfile\r\n",
        "import urllib\r\n",
        "\r\n",
        "def createfolders(dataset,folder):\r\n",
        "    i = 0\r\n",
        "    while i < len(dataset):\r\n",
        "        landmark = str(dataset.landmark_id.iloc[i])\r\n",
        "        path = '/content/drive/My Drive/APM_B10/' + folder + '/'+ landmark\r\n",
        "        if not os.path.exists(path):\r\n",
        "            os.makedirs(path)\r\n",
        "        i+=1"
      ],
      "execution_count": 30,
      "outputs": []
    },
    {
      "cell_type": "markdown",
      "metadata": {
        "id": "aJXVMf9KG4L4"
      },
      "source": [
        "### (b) Function to get rid of images with broken links (small sizes)"
      ]
    },
    {
      "cell_type": "code",
      "metadata": {
        "id": "yxEq3-jFHBDK"
      },
      "source": [
        "def transformdata(data,path1, path2):\r\n",
        "    n = 1\r\n",
        "    for landmark_id in set(data['landmark_id']):\r\n",
        "        t = data[(data.landmark_id == landmark_id)]\r\n",
        "        i = 1\r\n",
        "        r =[]\r\n",
        "        while i <= len(t.id):\r\n",
        "            it = i - 1\r\n",
        "            r.append(t.id.iloc[it])\r\n",
        "            i += 1\r\n",
        "        for files in os.listdir(rootdirpics):    # loop through startfolders\r\n",
        "            inpath = path1 + files\r\n",
        "            folder = str(landmark_id)\r\n",
        "            outpath = path2 + folder  \r\n",
        "            if ((files.split('.')[0] in r) & (os.path.getsize(inpath) >1000)):\r\n",
        "                print(outpath)\r\n",
        "                shutil.move(inpath, outpath)\r\n",
        "            elif ((files.split('.')[0] in r) & (os.path.getsize(inpath) <= 1000)):\r\n",
        "                os.remove(inpath) #delets small files that cannot be images\r\n",
        "        n+=1"
      ],
      "execution_count": 31,
      "outputs": []
    },
    {
      "cell_type": "markdown",
      "metadata": {
        "id": "yz27GMsmEXF0"
      },
      "source": [
        "### (c) Training Set"
      ]
    },
    {
      "cell_type": "code",
      "metadata": {
        "id": "8O4EtitCE8pg"
      },
      "source": [
        "temp = pd.DataFrame(data_train.landmark_id.value_counts())\r\n",
        "temp.reset_index(inplace=True)\r\n",
        "temp.columns = ['landmark_id','count']\r\n",
        "\r\n",
        "#make folders for landmark ID which had no images in validation sets\r\n",
        "available = [int((x[0].split('/'))[-1]) for x in os.walk(r'../Data/M_validation_images_model/') if len((x[0].split('/'))[-1]) > 0]\r\n",
        "new = [str(x) for x in range(1000,2999) if x not in available]\r\n",
        "for i in new:\r\n",
        "    path = '../Data/N_validation_images_model/' + i\r\n",
        "    if not os.path.exists(path):\r\n",
        "        os.makedirs(path)\r\n",
        "\r\n",
        "createfolders(temp,'N_train_images_model')"
      ],
      "execution_count": null,
      "outputs": []
    },
    {
      "cell_type": "code",
      "metadata": {
        "id": "SjieEllFE8px"
      },
      "source": [
        "rootdirpics = r'/content/drive/My Drive/APM_B10/N_train_images_model/'\r\n",
        "rootdirfolders = r'/content/drive/My Drive/APM_B10/N_train_images_model/'\r\n",
        "\r\n",
        "transformdata(data1,rootdirpics, rootdirfolders)\r\n",
        "print ('Train images moved')"
      ],
      "execution_count": null,
      "outputs": []
    },
    {
      "cell_type": "markdown",
      "metadata": {
        "id": "HeVRmqqWEM65"
      },
      "source": [
        "### (d) Validation Set"
      ]
    },
    {
      "cell_type": "code",
      "metadata": {
        "id": "gzjyRTaZESR_"
      },
      "source": [
        "temp = pd.DataFrame(data_valid.landmark_id.value_counts())\r\n",
        "temp.reset_index(inplace=True)\r\n",
        "temp.columns = ['landmark_id','count']\r\n",
        "\r\n",
        "createfolders(temp,'M_validation_images_model')"
      ],
      "execution_count": null,
      "outputs": []
    },
    {
      "cell_type": "code",
      "metadata": {
        "id": "IEujV9weEsAI"
      },
      "source": [
        "rootdirpics = r'/content/drive/My Drive/APM_B10/M_validation_images_model/'\r\n",
        "rootdirfolders = r'/content/drive/My Drive/APM_B10/M_validation_images_model/'\r\n",
        "\r\n",
        "transformdata(data1,rootdirpics, rootdirfolders)\r\n",
        "print ('Vaidation images moved')"
      ],
      "execution_count": null,
      "outputs": []
    },
    {
      "cell_type": "markdown",
      "metadata": {
        "id": "2nKHHJknESoj"
      },
      "source": [
        "### (e) Test Set"
      ]
    },
    {
      "cell_type": "code",
      "metadata": {
        "id": "FhiDPR86FWDf"
      },
      "source": [
        "temp = pd.DataFrame(data_test.landmark_id.value_counts())\r\n",
        "temp.reset_index(inplace=True)\r\n",
        "temp.columns = ['landmark_id','count']\r\n",
        "\r\n",
        "createfolders(temp,'N_test_images_from_train')"
      ],
      "execution_count": null,
      "outputs": []
    },
    {
      "cell_type": "code",
      "metadata": {
        "id": "H5irBUY0FWDw"
      },
      "source": [
        "rootdirpics = r'/content/drive/My Drive/APM_B10/N_test_images_from_train/'\r\n",
        "rootdirfolders = r'/content/drive/My Drive/APM_B10/N_test_images_from_train/'\r\n",
        "\r\n",
        "transformdata(data1,rootdirpics, rootdirfolders)\r\n",
        "print ('Test images moved')"
      ],
      "execution_count": null,
      "outputs": []
    },
    {
      "cell_type": "markdown",
      "metadata": {
        "id": "gfkgl7w7JZlD"
      },
      "source": [
        "###(f) Further cleaning to remove images in html that models cannot read"
      ]
    },
    {
      "cell_type": "code",
      "metadata": {
        "id": "9rg2jqAMJ22T"
      },
      "source": [
        "#TRAIN\r\n",
        "train_n_dir = r'/content/drive/My Drive/APM_B10/N_train_images_model/'\r\n",
        "train_n_landmark_list = []\r\n",
        "for i in os.listdir(validation_dir):\r\n",
        "  train_n_landmark_list.append(i)\r\n",
        "#train_n_landmark_list"
      ],
      "execution_count": null,
      "outputs": []
    },
    {
      "cell_type": "code",
      "metadata": {
        "id": "tTOtE_8dJ3Ed"
      },
      "source": [
        "from keras.preprocessing import image #IMPORTANT, all images would be removed otherwise\r\n",
        "\r\n",
        "for landmark in train_n_landmark_list:\r\n",
        "  for i in os.listdir(train_n_dir + landmark):\r\n",
        "    try:\r\n",
        "      image.load_img(train_n_dir + landmark + '/' + i)\r\n",
        "    except:\r\n",
        "      train_n_html.append(train_n_dir + landmark + '/' + i)\r\n",
        "      print(train_n_dir + landmark + '/' + i)\r\n",
        "      os.remove(train_n_dir + landmark + '/' + i)"
      ],
      "execution_count": null,
      "outputs": []
    },
    {
      "cell_type": "markdown",
      "metadata": {
        "id": "qUi3EdDZLVXh"
      },
      "source": [
        "Run through each image in each sub-folder within the set.\r\n",
        "Remove the image if it cannot be displayed."
      ]
    },
    {
      "cell_type": "code",
      "metadata": {
        "id": "Q8wEnzyFJf8T"
      },
      "source": [
        "#VALID\r\n",
        "validation_dir = r'/content/drive/My Drive/APM_B10/M_validation_images_model/'\r\n",
        "valid_n_landmark_list = []\r\n",
        "for i in os.listdir(validation_dir):\r\n",
        "  valid_n_landmark_list.append(i)\r\n",
        "#valid_n_landmark_list"
      ],
      "execution_count": null,
      "outputs": []
    },
    {
      "cell_type": "code",
      "metadata": {
        "id": "SoSLjN-fJtwP"
      },
      "source": [
        "for landmark in valid_n_landmark_list:\r\n",
        "  for i in os.listdir(validation_dir + landmark):\r\n",
        "    try:\r\n",
        "      image.load_img(validation_dir + landmark + '/' + i)\r\n",
        "    except:\r\n",
        "      valid_n_html.append(validation_dir + landmark + '/' + i)\r\n",
        "      print(validation_dir + landmark + '/' + i)\r\n",
        "      os.remove(validation_dir + landmark + '/' + i)"
      ],
      "execution_count": null,
      "outputs": []
    },
    {
      "cell_type": "code",
      "metadata": {
        "id": "5kRMgPC2J7ng"
      },
      "source": [
        "#TEST\r\n",
        "test_n_dir = r'/content/drive/My Drive/APM_B10/N_test_images_from_train/'\r\n",
        "test_n_landmark_list = []\r\n",
        "for i in os.listdir(test_n_dir):\r\n",
        "  test_n_landmark_list.append(i)\r\n",
        "#test_n_landmark_list"
      ],
      "execution_count": null,
      "outputs": []
    },
    {
      "cell_type": "code",
      "metadata": {
        "id": "PxHiE6-3Ln43"
      },
      "source": [
        "for landmark in test_n_landmark_list:\r\n",
        "  for i in os.listdir(test_n_dir + landmark):\r\n",
        "    try:\r\n",
        "      image.load_img(test_n_dir + landmark + '/' + i)\r\n",
        "    except:\r\n",
        "      test_n_landmark_list.append(test_n_dir + landmark + '/' + i)\r\n",
        "      print(test_n_dir + landmark + '/' + i)\r\n",
        "      os.remove(test_n_dir + landmark + '/' + i)"
      ],
      "execution_count": null,
      "outputs": []
    },
    {
      "cell_type": "markdown",
      "metadata": {
        "id": "8orAJUmBM1F2"
      },
      "source": [
        "# 5. Preparation for Modeling"
      ]
    },
    {
      "cell_type": "markdown",
      "metadata": {
        "id": "9EynfUi2M4fI"
      },
      "source": [
        "### See next script file"
      ]
    }
  ]
}
