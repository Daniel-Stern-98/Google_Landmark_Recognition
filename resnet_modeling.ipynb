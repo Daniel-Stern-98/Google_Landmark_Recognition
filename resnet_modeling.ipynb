{
  "nbformat": 4,
  "nbformat_minor": 0,
  "metadata": {
    "accelerator": "GPU",
    "colab": {
      "name": "ryan_resnet.ipynb",
      "provenance": [],
      "collapsed_sections": []
    },
    "kernelspec": {
      "display_name": "Python 3",
      "name": "python3"
    }
  },
  "cells": [
    {
      "cell_type": "code",
      "metadata": {
        "id": "LytZ8r697AvH"
      },
      "source": [
        "from google.colab import files\n",
        "import pandas as pd\n",
        "import numpy as np"
      ],
      "execution_count": null,
      "outputs": []
    },
    {
      "cell_type": "code",
      "metadata": {
        "colab": {
          "base_uri": "https://localhost:8080/"
        },
        "id": "uIaZaTMXEvtp",
        "outputId": "e1e16d5d-5bbd-425a-cb79-8123803babe6"
      },
      "source": [
        "#Mount my Google drive\n",
        "from google.colab import drive\n",
        "drive.mount('/content/drive')"
      ],
      "execution_count": null,
      "outputs": [
        {
          "output_type": "stream",
          "text": [
            "Mounted at /content/drive\n"
          ],
          "name": "stdout"
        }
      ]
    },
    {
      "cell_type": "code",
      "metadata": {
        "colab": {
          "base_uri": "https://localhost:8080/",
          "height": 190
        },
        "id": "bJQd2GRD6l-0",
        "outputId": "8a0be599-9739-423c-99df-6c73234f4f69"
      },
      "source": [
        "path = \"/content/drive/My Drive/APM_B10/train.csv\"\n",
        "df = pd.read_csv(path)\n",
        "df.head()"
      ],
      "execution_count": null,
      "outputs": [
        {
          "output_type": "execute_result",
          "data": {
            "text/html": [
              "<div>\n",
              "<style scoped>\n",
              "    .dataframe tbody tr th:only-of-type {\n",
              "        vertical-align: middle;\n",
              "    }\n",
              "\n",
              "    .dataframe tbody tr th {\n",
              "        vertical-align: top;\n",
              "    }\n",
              "\n",
              "    .dataframe thead th {\n",
              "        text-align: right;\n",
              "    }\n",
              "</style>\n",
              "<table border=\"1\" class=\"dataframe\">\n",
              "  <thead>\n",
              "    <tr style=\"text-align: right;\">\n",
              "      <th></th>\n",
              "      <th>id</th>\n",
              "      <th>url</th>\n",
              "      <th>landmark_id</th>\n",
              "    </tr>\n",
              "  </thead>\n",
              "  <tbody>\n",
              "    <tr>\n",
              "      <th>0</th>\n",
              "      <td>97c0a12e07ae8dd5</td>\n",
              "      <td>http://lh4.ggpht.com/-f8xYA5l4apw/RSziSQVaABI/...</td>\n",
              "      <td>6347</td>\n",
              "    </tr>\n",
              "    <tr>\n",
              "      <th>1</th>\n",
              "      <td>650c989dd3493748</td>\n",
              "      <td>https://lh5.googleusercontent.com/-PUnMrX7oOyA...</td>\n",
              "      <td>12519</td>\n",
              "    </tr>\n",
              "    <tr>\n",
              "      <th>2</th>\n",
              "      <td>05e63ca9b2cde1f4</td>\n",
              "      <td>http://mw2.google.com/mw-panoramio/photos/medi...</td>\n",
              "      <td>264</td>\n",
              "    </tr>\n",
              "    <tr>\n",
              "      <th>3</th>\n",
              "      <td>08672eddcb2b7c93</td>\n",
              "      <td>http://lh3.ggpht.com/-9fgSxDYwhHA/SMvGEoltKTI/...</td>\n",
              "      <td>13287</td>\n",
              "    </tr>\n",
              "    <tr>\n",
              "      <th>4</th>\n",
              "      <td>fc49cb32ef7f1e89</td>\n",
              "      <td>http://lh6.ggpht.com/-UGAXxvPbr98/S-jGZbyMIPI/...</td>\n",
              "      <td>4018</td>\n",
              "    </tr>\n",
              "  </tbody>\n",
              "</table>\n",
              "</div>"
            ],
            "text/plain": [
              "                 id  ... landmark_id\n",
              "0  97c0a12e07ae8dd5  ...        6347\n",
              "1  650c989dd3493748  ...       12519\n",
              "2  05e63ca9b2cde1f4  ...         264\n",
              "3  08672eddcb2b7c93  ...       13287\n",
              "4  fc49cb32ef7f1e89  ...        4018\n",
              "\n",
              "[5 rows x 3 columns]"
            ]
          },
          "metadata": {
            "tags": []
          },
          "execution_count": 3
        }
      ]
    },
    {
      "cell_type": "code",
      "metadata": {
        "colab": {
          "base_uri": "https://localhost:8080/",
          "height": 392
        },
        "id": "GfX89f8sCBsR",
        "outputId": "20f74bdb-23d8-4847-aaf6-a10cc16fc25b"
      },
      "source": [
        "filtered = df.groupby('landmark_id')['url'].filter(lambda x: len(x) >= 100)\n",
        "df_filter = df[df['url'].isin(filtered)]\n",
        "df_filter = df_filter.replace(to_replace='None', value=np.nan).dropna()\n",
        "df_filter"
      ],
      "execution_count": null,
      "outputs": [
        {
          "output_type": "execute_result",
          "data": {
            "text/html": [
              "<div>\n",
              "<style scoped>\n",
              "    .dataframe tbody tr th:only-of-type {\n",
              "        vertical-align: middle;\n",
              "    }\n",
              "\n",
              "    .dataframe tbody tr th {\n",
              "        vertical-align: top;\n",
              "    }\n",
              "\n",
              "    .dataframe thead th {\n",
              "        text-align: right;\n",
              "    }\n",
              "</style>\n",
              "<table border=\"1\" class=\"dataframe\">\n",
              "  <thead>\n",
              "    <tr style=\"text-align: right;\">\n",
              "      <th></th>\n",
              "      <th>id</th>\n",
              "      <th>url</th>\n",
              "      <th>landmark_id</th>\n",
              "    </tr>\n",
              "  </thead>\n",
              "  <tbody>\n",
              "    <tr>\n",
              "      <th>0</th>\n",
              "      <td>97c0a12e07ae8dd5</td>\n",
              "      <td>http://lh4.ggpht.com/-f8xYA5l4apw/RSziSQVaABI/...</td>\n",
              "      <td>6347</td>\n",
              "    </tr>\n",
              "    <tr>\n",
              "      <th>1</th>\n",
              "      <td>650c989dd3493748</td>\n",
              "      <td>https://lh5.googleusercontent.com/-PUnMrX7oOyA...</td>\n",
              "      <td>12519</td>\n",
              "    </tr>\n",
              "    <tr>\n",
              "      <th>2</th>\n",
              "      <td>05e63ca9b2cde1f4</td>\n",
              "      <td>http://mw2.google.com/mw-panoramio/photos/medi...</td>\n",
              "      <td>264</td>\n",
              "    </tr>\n",
              "    <tr>\n",
              "      <th>5</th>\n",
              "      <td>056708de792326b9</td>\n",
              "      <td>https://lh3.googleusercontent.com/-nbz_XT1dGz4...</td>\n",
              "      <td>5046</td>\n",
              "    </tr>\n",
              "    <tr>\n",
              "      <th>6</th>\n",
              "      <td>6ae1e206c579f649</td>\n",
              "      <td>https://lh6.googleusercontent.com/-onL5-pK9nZI...</td>\n",
              "      <td>5554</td>\n",
              "    </tr>\n",
              "    <tr>\n",
              "      <th>...</th>\n",
              "      <td>...</td>\n",
              "      <td>...</td>\n",
              "      <td>...</td>\n",
              "    </tr>\n",
              "    <tr>\n",
              "      <th>1225024</th>\n",
              "      <td>4bb5a501e5b26a6a</td>\n",
              "      <td>https://lh6.googleusercontent.com/-mRrQU3t5cYw...</td>\n",
              "      <td>9737</td>\n",
              "    </tr>\n",
              "    <tr>\n",
              "      <th>1225025</th>\n",
              "      <td>2cd8a404796cfe0e</td>\n",
              "      <td>https://lh6.googleusercontent.com/-0UB5gFx6w7M...</td>\n",
              "      <td>7758</td>\n",
              "    </tr>\n",
              "    <tr>\n",
              "      <th>1225026</th>\n",
              "      <td>8733b8b469fb8c1b</td>\n",
              "      <td>http://lh3.ggpht.com/-TDQWNVvJQDI/SI3HZSA4D3I/...</td>\n",
              "      <td>13170</td>\n",
              "    </tr>\n",
              "    <tr>\n",
              "      <th>1225027</th>\n",
              "      <td>14dd9e8790397c83</td>\n",
              "      <td>https://lh4.googleusercontent.com/-anV4Xpo0UuM...</td>\n",
              "      <td>5669</td>\n",
              "    </tr>\n",
              "    <tr>\n",
              "      <th>1225028</th>\n",
              "      <td>4303049d5a6b5602</td>\n",
              "      <td>https://lh6.googleusercontent.com/-1pe3ldzCDAw...</td>\n",
              "      <td>4987</td>\n",
              "    </tr>\n",
              "  </tbody>\n",
              "</table>\n",
              "<p>935832 rows × 3 columns</p>\n",
              "</div>"
            ],
            "text/plain": [
              "                       id  ... landmark_id\n",
              "0        97c0a12e07ae8dd5  ...        6347\n",
              "1        650c989dd3493748  ...       12519\n",
              "2        05e63ca9b2cde1f4  ...         264\n",
              "5        056708de792326b9  ...        5046\n",
              "6        6ae1e206c579f649  ...        5554\n",
              "...                   ...  ...         ...\n",
              "1225024  4bb5a501e5b26a6a  ...        9737\n",
              "1225025  2cd8a404796cfe0e  ...        7758\n",
              "1225026  8733b8b469fb8c1b  ...       13170\n",
              "1225027  14dd9e8790397c83  ...        5669\n",
              "1225028  4303049d5a6b5602  ...        4987\n",
              "\n",
              "[935832 rows x 3 columns]"
            ]
          },
          "metadata": {
            "tags": []
          },
          "execution_count": 4
        }
      ]
    },
    {
      "cell_type": "code",
      "metadata": {
        "colab": {
          "base_uri": "https://localhost:8080/"
        },
        "id": "mciHEikUCLOI",
        "outputId": "b211e4ef-6212-4c04-e3cb-d8517c83f4f1"
      },
      "source": [
        "#Select only id from 1000-2000 to save time\n",
        "landmark_list = [str(x) for x in list(range(1000,2000))]\n",
        "data_sample = df_filter[df_filter['landmark_id'].isin(landmark_list)]\n",
        "data_sample.landmark_id.value_counts()"
      ],
      "execution_count": null,
      "outputs": [
        {
          "output_type": "execute_result",
          "data": {
            "text/plain": [
              "1553    7653\n",
              "1878    2285\n",
              "1847    1642\n",
              "1946    1533\n",
              "1602    1466\n",
              "        ... \n",
              "1771     103\n",
              "1458     102\n",
              "1135     102\n",
              "1930     102\n",
              "1879     100\n",
              "Name: landmark_id, Length: 131, dtype: int64"
            ]
          },
          "metadata": {
            "tags": []
          },
          "execution_count": 5
        }
      ]
    },
    {
      "cell_type": "code",
      "metadata": {
        "colab": {
          "base_uri": "https://localhost:8080/"
        },
        "id": "rXa2TIFICYpc",
        "outputId": "41165fc1-43b7-4eb6-ea2c-65602e93a912"
      },
      "source": [
        "#Ref: https://www.kaggle.com/lyakaap/fast-resized-image-download-python-3\n",
        "import re\n",
        "TARGET_SIZE = 96 #imports images of resolution 96x96\n",
        "\n",
        "'''change URLs to resize images to target size'''\n",
        "def overwrite_urls(df):\n",
        "    def reso_overwrite(url_tail, reso=TARGET_SIZE):\n",
        "        pattern = 's[0-9]+'\n",
        "        search_result = re.match(pattern, url_tail)\n",
        "        if search_result is None:\n",
        "            return url_tail\n",
        "        else:\n",
        "            return 's{}'.format(reso)\n",
        "    \n",
        "    def join_url(parsed_url, s_reso):\n",
        "        parsed_url[-2] = s_reso\n",
        "        return '/'.join(parsed_url)\n",
        "    \n",
        "    df = df[df.url.apply(lambda x: len(x.split('/'))>1)]\n",
        "    parsed_url = df.url.apply(lambda x: x.split('/'))\n",
        "    train_url_tail = parsed_url.apply(lambda x: x[-2])\n",
        "    resos = train_url_tail.apply(lambda x: reso_overwrite(x, reso=TARGET_SIZE))\n",
        "\n",
        "    overwritten_df = pd.concat([parsed_url, resos], axis=1)\n",
        "    overwritten_df.columns = ['url', 's_reso']\n",
        "    df['url'] = overwritten_df.apply(lambda x: join_url(x['url'], x['s_reso']), axis=1)\n",
        "    return df\n",
        "\n",
        "data_sample_resize = overwrite_urls(data_sample)\n",
        "print ('1. URLs overwritten')"
      ],
      "execution_count": null,
      "outputs": [
        {
          "output_type": "stream",
          "text": [
            "1. URLs overwritten\n"
          ],
          "name": "stdout"
        }
      ]
    },
    {
      "cell_type": "code",
      "metadata": {
        "id": "3RoO9fJbCj_5"
      },
      "source": [
        "train_dir = r'/content/drive/My Drive/APM_B10/N_train_images_model/'\n",
        "validation_dir = r'/content/drive/My Drive/APM_B10/M_validation_images_model/'\n",
        "test_dir = r'/content/drive/My Drive/APM_B10/N_test_images_from_train/'"
      ],
      "execution_count": null,
      "outputs": []
    },
    {
      "cell_type": "code",
      "metadata": {
        "id": "otjWshEfDwZO"
      },
      "source": [
        "import os \n",
        "import zipfile \n",
        "import tensorflow as tf \n",
        "from tensorflow.keras.preprocessing.image import ImageDataGenerator \n",
        "from tensorflow.keras.metrics import top_k_categorical_accuracy\n",
        "from tensorflow.keras import layers \n",
        "from tensorflow.keras import Model \n",
        "import matplotlib.pyplot as plt"
      ],
      "execution_count": null,
      "outputs": []
    },
    {
      "cell_type": "code",
      "metadata": {
        "colab": {
          "base_uri": "https://localhost:8080/"
        },
        "id": "F4UiTtqdIirY",
        "outputId": "3df33fac-a4c2-4175-d370-a1c9613112d3"
      },
      "source": [
        "from tensorflow.keras.preprocessing import image_dataset_from_directory\n",
        "BATCH_SIZE = 240\n",
        "IMG_SIZE = (96,96)\n",
        "\n",
        "train_dataset = image_dataset_from_directory(train_dir,\n",
        "                                             labels='inferred',\n",
        "                                             label_mode='categorical',\n",
        "                                             shuffle=True,\n",
        "                                             batch_size=BATCH_SIZE,\n",
        "                                             image_size=IMG_SIZE)\n",
        "validation_dataset = image_dataset_from_directory(validation_dir,\n",
        "                                             labels='inferred',\n",
        "                                             label_mode='categorical',\n",
        "                                             shuffle=True,\n",
        "                                             batch_size=BATCH_SIZE,\n",
        "                                             image_size=IMG_SIZE)\n",
        "\n",
        "test_dataset = image_dataset_from_directory(test_dir,\n",
        "                                            labels='inferred',\n",
        "                                            label_mode='categorical',\n",
        "                                            shuffle=True,\n",
        "                                            batch_size=BATCH_SIZE,\n",
        "                                            image_size=IMG_SIZE)"
      ],
      "execution_count": null,
      "outputs": [
        {
          "output_type": "stream",
          "text": [
            "Found 36475 files belonging to 131 classes.\n",
            "Found 9591 files belonging to 131 classes.\n",
            "Found 439 files belonging to 131 classes.\n"
          ],
          "name": "stdout"
        }
      ]
    },
    {
      "cell_type": "code",
      "metadata": {
        "id": "nwaCFcY6ILc8"
      },
      "source": [
        "AUTOTUNE = tf.data.experimental.AUTOTUNE\n",
        "\n",
        "train_dataset = train_dataset.prefetch(buffer_size=AUTOTUNE)\n",
        "validation_dataset = validation_dataset.prefetch(buffer_size=AUTOTUNE)"
      ],
      "execution_count": null,
      "outputs": []
    },
    {
      "cell_type": "code",
      "metadata": {
        "id": "h9ub_PEtD367"
      },
      "source": [
        "# Add our data-augmentation parameters to ImageDataGenerator\n",
        "train_datagen = ImageDataGenerator(rescale = 1./95.)\n",
        "\n",
        "# Note that the validation data should not be augmented!\n",
        "test_datagen = ImageDataGenerator(rescale = 1.0/95.)"
      ],
      "execution_count": null,
      "outputs": []
    },
    {
      "cell_type": "code",
      "metadata": {
        "colab": {
          "base_uri": "https://localhost:8080/"
        },
        "id": "Nkh4lLhoDDNe",
        "outputId": "e99e5514-b8d7-41a1-a670-b51fc62bad22"
      },
      "source": [
        "# Flow training images in batches of 20 using train_datagen generator\n",
        "train_generator = train_datagen.flow_from_directory(train_dir, batch_size = 240, target_size = (96, 96))\n",
        "\n",
        "# Flow validation images in batches of 20 using test_datagen generator\n",
        "validation_generator = test_datagen.flow_from_directory(validation_dir,  batch_size = 240, target_size = (96, 96))"
      ],
      "execution_count": null,
      "outputs": [
        {
          "output_type": "stream",
          "text": [
            "Found 36475 images belonging to 131 classes.\n",
            "Found 9591 images belonging to 131 classes.\n"
          ],
          "name": "stdout"
        }
      ]
    },
    {
      "cell_type": "code",
      "metadata": {
        "colab": {
          "base_uri": "https://localhost:8080/"
        },
        "id": "dFiaDXVJ43LR",
        "outputId": "bd4582fe-baf1-4fd1-ebd0-fe4452214b60"
      },
      "source": [
        "len(train_generator)"
      ],
      "execution_count": null,
      "outputs": [
        {
          "output_type": "execute_result",
          "data": {
            "text/plain": [
              "152"
            ]
          },
          "metadata": {
            "tags": []
          },
          "execution_count": 13
        }
      ]
    },
    {
      "cell_type": "markdown",
      "metadata": {
        "id": "PVK2Jgfx0ceB"
      },
      "source": [
        "# Resnet50"
      ]
    },
    {
      "cell_type": "code",
      "metadata": {
        "colab": {
          "base_uri": "https://localhost:8080/"
        },
        "id": "Zv9jJvbi1HMp",
        "outputId": "72ba6da9-8202-442f-c903-98dcbfda813a"
      },
      "source": [
        "from tensorflow.keras.applications import ResNet50\n",
        "base_model3 = ResNet50(input_shape=(96, 96,3), include_top=False, weights=\"imagenet\")"
      ],
      "execution_count": null,
      "outputs": [
        {
          "output_type": "stream",
          "text": [
            "Downloading data from https://storage.googleapis.com/tensorflow/keras-applications/resnet/resnet50_weights_tf_dim_ordering_tf_kernels_notop.h5\n",
            "94773248/94765736 [==============================] - 0s 0us/step\n"
          ],
          "name": "stdout"
        }
      ]
    },
    {
      "cell_type": "code",
      "metadata": {
        "id": "hOE5nrUQ1Nzr"
      },
      "source": [
        "for layer in base_model3.layers:\n",
        "  layer.trainable = False"
      ],
      "execution_count": null,
      "outputs": []
    },
    {
      "cell_type": "code",
      "metadata": {
        "id": "IEoOLrgn1URK"
      },
      "source": [
        "from tensorflow.keras.applications import ResNet50\n",
        "from tensorflow.python.keras.models import Sequential\n",
        "from tensorflow.python.keras.layers import Dense, Flatten, GlobalAveragePooling2D\n",
        "\n",
        "base_model3 = Sequential()\n",
        "base_model3.add(ResNet50(include_top=False, weights='imagenet', pooling='max'))\n",
        "base_model3.add(Dense(131, activation='softmax',name=\"predictions\"))"
      ],
      "execution_count": null,
      "outputs": []
    },
    {
      "cell_type": "code",
      "metadata": {
        "id": "LchmPHVW1YRo"
      },
      "source": [
        "def top_1_accuracy(y_true, y_pred):\r\n",
        "    return top_k_categorical_accuracy(y_true, y_pred, k=1)\r\n",
        "\r\n",
        "base_model3.compile(optimizer = tf.keras.optimizers.SGD(lr=0.01), loss = 'categorical_crossentropy', metrics = [top_1_accuracy])"
      ],
      "execution_count": null,
      "outputs": []
    },
    {
      "cell_type": "code",
      "metadata": {
        "colab": {
          "base_uri": "https://localhost:8080/"
        },
        "id": "-Wgac9gR1cXV",
        "outputId": "15e2afb1-1625-44c6-97a0-7ce77572f440"
      },
      "source": [
        "resnet_history = base_model3.fit(train_generator, validation_data = validation_generator, steps_per_epoch = 20, epochs = 10)"
      ],
      "execution_count": null,
      "outputs": [
        {
          "output_type": "stream",
          "text": [
            "Epoch 1/10\n",
            "14/20 [====================>.........] - ETA: 5:24 - loss: 6.8203 - top_1_accuracy: 0.1167"
          ],
          "name": "stdout"
        },
        {
          "output_type": "stream",
          "text": [
            "/usr/local/lib/python3.6/dist-packages/PIL/Image.py:932: UserWarning: Palette images with Transparency expressed in bytes should be converted to RGBA images\n",
            "  \"Palette images with Transparency expressed in bytes should be \"\n"
          ],
          "name": "stderr"
        },
        {
          "output_type": "stream",
          "text": [
            "20/20 [==============================] - 3421s 171s/step - loss: 6.2539 - top_1_accuracy: 0.1565 - val_loss: 83.0393 - val_top_1_accuracy: 0.0177\n",
            "Epoch 2/10\n",
            "20/20 [==============================] - 945s 47s/step - loss: 3.6891 - top_1_accuracy: 0.3415 - val_loss: 83.1591 - val_top_1_accuracy: 0.0078\n",
            "Epoch 3/10\n",
            "20/20 [==============================] - 822s 41s/step - loss: 2.7780 - top_1_accuracy: 0.4688 - val_loss: 22.7365 - val_top_1_accuracy: 0.0155\n",
            "Epoch 4/10\n",
            "20/20 [==============================] - 716s 36s/step - loss: 2.3234 - top_1_accuracy: 0.5450 - val_loss: 18.7182 - val_top_1_accuracy: 0.0083\n",
            "Epoch 5/10\n",
            "20/20 [==============================] - 600s 30s/step - loss: 1.7305 - top_1_accuracy: 0.6359 - val_loss: 7.7572 - val_top_1_accuracy: 0.0047\n",
            "Epoch 6/10\n",
            "20/20 [==============================] - 522s 26s/step - loss: 1.4222 - top_1_accuracy: 0.6860 - val_loss: 6.6231 - val_top_1_accuracy: 0.0047\n",
            "Epoch 7/10\n",
            "20/20 [==============================] - 472s 24s/step - loss: 1.2113 - top_1_accuracy: 0.7423 - val_loss: 6.6749 - val_top_1_accuracy: 0.0143\n",
            "Epoch 8/10\n",
            "20/20 [==============================] - 392s 20s/step - loss: 1.0665 - top_1_accuracy: 0.7692 - val_loss: 6.5081 - val_top_1_accuracy: 0.0100\n",
            "Epoch 9/10\n",
            "20/20 [==============================] - 338s 17s/step - loss: 0.8603 - top_1_accuracy: 0.8069 - val_loss: 5.6732 - val_top_1_accuracy: 0.0133\n",
            "Epoch 10/10\n",
            "20/20 [==============================] - 294s 15s/step - loss: 0.7654 - top_1_accuracy: 0.8263 - val_loss: 5.6223 - val_top_1_accuracy: 0.0148\n"
          ],
          "name": "stdout"
        }
      ]
    },
    {
      "cell_type": "code",
      "metadata": {
        "colab": {
          "base_uri": "https://localhost:8080/"
        },
        "id": "NvQevZM2WfCT",
        "outputId": "d85683ab-e2e7-4bf1-c0c0-88962b7202a8"
      },
      "source": [
        "#predictions\n",
        "loss, accuracy = base_model3.evaluate(test_dataset)"
      ],
      "execution_count": null,
      "outputs": [
        {
          "output_type": "stream",
          "text": [
            "2/2 [==============================] - 1s 441ms/step - loss: 13.6288 - top_1_accuracy: 0.0228\n"
          ],
          "name": "stdout"
        }
      ]
    },
    {
      "cell_type": "code",
      "metadata": {
        "colab": {
          "base_uri": "https://localhost:8080/",
          "height": 512
        },
        "id": "9fVV1PawWYej",
        "outputId": "48a6f23a-b2ea-4a41-d3c6-c9550920d7bb"
      },
      "source": [
        "#loss curve\n",
        "acc = resnet_history.history['top_1_accuracy']\n",
        "val_acc = resnet_history.history['val_top_1_accuracy']\n",
        "\n",
        "loss = resnet_history.history['loss']\n",
        "val_loss = resnet_history.history['val_loss']\n",
        "\n",
        "plt.figure(figsize=(8, 8))\n",
        "plt.subplot(2, 1, 1)\n",
        "plt.plot(acc, label='Training Accuracy')\n",
        "plt.plot(val_acc, label='Validation Accuracy')\n",
        "plt.legend(loc='lower right')\n",
        "plt.ylabel('Accuracy')\n",
        "plt.ylim([min(plt.ylim()),1])\n",
        "plt.title('Training and Validation Accuracy')\n",
        "\n",
        "plt.subplot(2, 1, 2)\n",
        "plt.plot(loss, label='Training Loss')\n",
        "plt.plot(val_loss, label='Validation Loss')\n",
        "plt.legend(loc='upper right')\n",
        "plt.ylabel('Cross Entropy')\n",
        "plt.ylim([0,100.0])\n",
        "plt.title('Training and Validation Loss')\n",
        "plt.xlabel('epoch')\n",
        "plt.show()"
      ],
      "execution_count": null,
      "outputs": [
        {
          "output_type": "display_data",
          "data": {
            "image/png": "[encoded data removed]",
            "text/plain": [
              "<Figure size 576x576 with 2 Axes>"
            ]
          },
          "metadata": {
            "tags": [],
            "needs_background": "light"
          }
        }
      ]
    },
    {
      "cell_type": "code",
      "metadata": {
        "colab": {
          "base_uri": "https://localhost:8080/",
          "height": 178
        },
        "id": "dU2eCr9n_qva",
        "outputId": "8a394ec0-d28d-4099-925b-520f16aedf1b"
      },
      "source": [
        "while True:\r\n",
        "  pass"
      ],
      "execution_count": null,
      "outputs": [
        {
          "output_type": "error",
          "ename": "KeyboardInterrupt",
          "evalue": "ignored",
          "traceback": [
            "\u001b[0;31m---------------------------------------------------------------------------\u001b[0m",
            "\u001b[0;31mKeyboardInterrupt\u001b[0m                         Traceback (most recent call last)",
            "\u001b[0;32m<ipython-input-21-648a2bab0435>\u001b[0m in \u001b[0;36m<module>\u001b[0;34m()\u001b[0m\n\u001b[1;32m      1\u001b[0m \u001b[0;32mwhile\u001b[0m \u001b[0;32mTrue\u001b[0m\u001b[0;34m:\u001b[0m\u001b[0;34m\u001b[0m\u001b[0;34m\u001b[0m\u001b[0m\n\u001b[0;32m----> 2\u001b[0;31m   \u001b[0;32mpass\u001b[0m\u001b[0;34m\u001b[0m\u001b[0;34m\u001b[0m\u001b[0m\n\u001b[0m",
            "\u001b[0;31mKeyboardInterrupt\u001b[0m: "
          ]
        }
      ]
    },
    {
      "cell_type": "code",
      "metadata": {
        "id": "zIs9jWzKflYJ"
      },
      "source": [
        ""
      ],
      "execution_count": null,
      "outputs": []
    }
  ]
}