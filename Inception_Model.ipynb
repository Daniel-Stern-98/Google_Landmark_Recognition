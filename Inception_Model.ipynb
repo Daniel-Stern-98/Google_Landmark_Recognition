{
 "cells": [
  {
   "cell_type": "code",
   "execution_count": 1,
   "metadata": {
    "id": "LytZ8r697AvH"
   },
   "outputs": [],
   "source": [
    "from google.colab import files\n",
    "import pandas as pd\n",
    "import numpy as np"
   ]
  },
  {
   "cell_type": "code",
   "execution_count": 2,
   "metadata": {
    "colab": {
     "base_uri": "https://localhost:8080/"
    },
    "id": "uIaZaTMXEvtp",
    "outputId": "b78ede4d-89b3-42fd-fcd1-550ebf1eb43b"
   },
   "outputs": [
    {
     "name": "stdout",
     "output_type": "stream",
     "text": [
      "Mounted at /content/drive\n"
     ]
    }
   ],
   "source": [
    "#Mount my Google drive\n",
    "from google.colab import drive\n",
    "drive.mount('/content/drive')"
   ]
  },
  {
   "cell_type": "code",
   "execution_count": 3,
   "metadata": {
    "colab": {
     "base_uri": "https://localhost:8080/",
     "height": 195
    },
    "id": "bJQd2GRD6l-0",
    "outputId": "52e78af5-320c-4d95-f9f8-4d126d8e3642"
   },
   "outputs": [
    {
     "data": {
      "text/html": [
       "<div>\n",
       "<style scoped>\n",
       "    .dataframe tbody tr th:only-of-type {\n",
       "        vertical-align: middle;\n",
       "    }\n",
       "\n",
       "    .dataframe tbody tr th {\n",
       "        vertical-align: top;\n",
       "    }\n",
       "\n",
       "    .dataframe thead th {\n",
       "        text-align: right;\n",
       "    }\n",
       "</style>\n",
       "<table border=\"1\" class=\"dataframe\">\n",
       "  <thead>\n",
       "    <tr style=\"text-align: right;\">\n",
       "      <th></th>\n",
       "      <th>id</th>\n",
       "      <th>url</th>\n",
       "      <th>landmark_id</th>\n",
       "    </tr>\n",
       "  </thead>\n",
       "  <tbody>\n",
       "    <tr>\n",
       "      <th>0</th>\n",
       "      <td>97c0a12e07ae8dd5</td>\n",
       "      <td>http://lh4.ggpht.com/-f8xYA5l4apw/RSziSQVaABI/...</td>\n",
       "      <td>6347</td>\n",
       "    </tr>\n",
       "    <tr>\n",
       "      <th>1</th>\n",
       "      <td>650c989dd3493748</td>\n",
       "      <td>https://lh5.googleusercontent.com/-PUnMrX7oOyA...</td>\n",
       "      <td>12519</td>\n",
       "    </tr>\n",
       "    <tr>\n",
       "      <th>2</th>\n",
       "      <td>05e63ca9b2cde1f4</td>\n",
       "      <td>http://mw2.google.com/mw-panoramio/photos/medi...</td>\n",
       "      <td>264</td>\n",
       "    </tr>\n",
       "    <tr>\n",
       "      <th>3</th>\n",
       "      <td>08672eddcb2b7c93</td>\n",
       "      <td>http://lh3.ggpht.com/-9fgSxDYwhHA/SMvGEoltKTI/...</td>\n",
       "      <td>13287</td>\n",
       "    </tr>\n",
       "    <tr>\n",
       "      <th>4</th>\n",
       "      <td>fc49cb32ef7f1e89</td>\n",
       "      <td>http://lh6.ggpht.com/-UGAXxvPbr98/S-jGZbyMIPI/...</td>\n",
       "      <td>4018</td>\n",
       "    </tr>\n",
       "  </tbody>\n",
       "</table>\n",
       "</div>"
      ],
      "text/plain": [
       "                 id  ... landmark_id\n",
       "0  97c0a12e07ae8dd5  ...        6347\n",
       "1  650c989dd3493748  ...       12519\n",
       "2  05e63ca9b2cde1f4  ...         264\n",
       "3  08672eddcb2b7c93  ...       13287\n",
       "4  fc49cb32ef7f1e89  ...        4018\n",
       "\n",
       "[5 rows x 3 columns]"
      ]
     },
     "execution_count": 3,
     "metadata": {
      "tags": []
     },
     "output_type": "execute_result"
    }
   ],
   "source": [
    "path = \"/content/drive/My Drive/APM_B10/train.csv\"\n",
    "df = pd.read_csv(path)\n",
    "df.head()"
   ]
  },
  {
   "cell_type": "code",
   "execution_count": 4,
   "metadata": {
    "colab": {
     "base_uri": "https://localhost:8080/",
     "height": 402
    },
    "id": "GfX89f8sCBsR",
    "outputId": "23f9ceaa-afca-4175-c376-e789a057d951"
   },
   "outputs": [
    {
     "data": {
      "text/html": [
       "<div>\n",
       "<style scoped>\n",
       "    .dataframe tbody tr th:only-of-type {\n",
       "        vertical-align: middle;\n",
       "    }\n",
       "\n",
       "    .dataframe tbody tr th {\n",
       "        vertical-align: top;\n",
       "    }\n",
       "\n",
       "    .dataframe thead th {\n",
       "        text-align: right;\n",
       "    }\n",
       "</style>\n",
       "<table border=\"1\" class=\"dataframe\">\n",
       "  <thead>\n",
       "    <tr style=\"text-align: right;\">\n",
       "      <th></th>\n",
       "      <th>id</th>\n",
       "      <th>url</th>\n",
       "      <th>landmark_id</th>\n",
       "    </tr>\n",
       "  </thead>\n",
       "  <tbody>\n",
       "    <tr>\n",
       "      <th>0</th>\n",
       "      <td>97c0a12e07ae8dd5</td>\n",
       "      <td>http://lh4.ggpht.com/-f8xYA5l4apw/RSziSQVaABI/...</td>\n",
       "      <td>6347</td>\n",
       "    </tr>\n",
       "    <tr>\n",
       "      <th>1</th>\n",
       "      <td>650c989dd3493748</td>\n",
       "      <td>https://lh5.googleusercontent.com/-PUnMrX7oOyA...</td>\n",
       "      <td>12519</td>\n",
       "    </tr>\n",
       "    <tr>\n",
       "      <th>2</th>\n",
       "      <td>05e63ca9b2cde1f4</td>\n",
       "      <td>http://mw2.google.com/mw-panoramio/photos/medi...</td>\n",
       "      <td>264</td>\n",
       "    </tr>\n",
       "    <tr>\n",
       "      <th>5</th>\n",
       "      <td>056708de792326b9</td>\n",
       "      <td>https://lh3.googleusercontent.com/-nbz_XT1dGz4...</td>\n",
       "      <td>5046</td>\n",
       "    </tr>\n",
       "    <tr>\n",
       "      <th>6</th>\n",
       "      <td>6ae1e206c579f649</td>\n",
       "      <td>https://lh6.googleusercontent.com/-onL5-pK9nZI...</td>\n",
       "      <td>5554</td>\n",
       "    </tr>\n",
       "    <tr>\n",
       "      <th>...</th>\n",
       "      <td>...</td>\n",
       "      <td>...</td>\n",
       "      <td>...</td>\n",
       "    </tr>\n",
       "    <tr>\n",
       "      <th>1225024</th>\n",
       "      <td>4bb5a501e5b26a6a</td>\n",
       "      <td>https://lh6.googleusercontent.com/-mRrQU3t5cYw...</td>\n",
       "      <td>9737</td>\n",
       "    </tr>\n",
       "    <tr>\n",
       "      <th>1225025</th>\n",
       "      <td>2cd8a404796cfe0e</td>\n",
       "      <td>https://lh6.googleusercontent.com/-0UB5gFx6w7M...</td>\n",
       "      <td>7758</td>\n",
       "    </tr>\n",
       "    <tr>\n",
       "      <th>1225026</th>\n",
       "      <td>8733b8b469fb8c1b</td>\n",
       "      <td>http://lh3.ggpht.com/-TDQWNVvJQDI/SI3HZSA4D3I/...</td>\n",
       "      <td>13170</td>\n",
       "    </tr>\n",
       "    <tr>\n",
       "      <th>1225027</th>\n",
       "      <td>14dd9e8790397c83</td>\n",
       "      <td>https://lh4.googleusercontent.com/-anV4Xpo0UuM...</td>\n",
       "      <td>5669</td>\n",
       "    </tr>\n",
       "    <tr>\n",
       "      <th>1225028</th>\n",
       "      <td>4303049d5a6b5602</td>\n",
       "      <td>https://lh6.googleusercontent.com/-1pe3ldzCDAw...</td>\n",
       "      <td>4987</td>\n",
       "    </tr>\n",
       "  </tbody>\n",
       "</table>\n",
       "<p>935832 rows × 3 columns</p>\n",
       "</div>"
      ],
      "text/plain": [
       "                       id  ... landmark_id\n",
       "0        97c0a12e07ae8dd5  ...        6347\n",
       "1        650c989dd3493748  ...       12519\n",
       "2        05e63ca9b2cde1f4  ...         264\n",
       "5        056708de792326b9  ...        5046\n",
       "6        6ae1e206c579f649  ...        5554\n",
       "...                   ...  ...         ...\n",
       "1225024  4bb5a501e5b26a6a  ...        9737\n",
       "1225025  2cd8a404796cfe0e  ...        7758\n",
       "1225026  8733b8b469fb8c1b  ...       13170\n",
       "1225027  14dd9e8790397c83  ...        5669\n",
       "1225028  4303049d5a6b5602  ...        4987\n",
       "\n",
       "[935832 rows x 3 columns]"
      ]
     },
     "execution_count": 4,
     "metadata": {
      "tags": []
     },
     "output_type": "execute_result"
    }
   ],
   "source": [
    "filtered = df.groupby('landmark_id')['url'].filter(lambda x: len(x) >= 100)\n",
    "df_filter = df[df['url'].isin(filtered)]\n",
    "df_filter = df_filter.replace(to_replace='None', value=np.nan).dropna()\n",
    "df_filter"
   ]
  },
  {
   "cell_type": "code",
   "execution_count": 5,
   "metadata": {
    "colab": {
     "base_uri": "https://localhost:8080/"
    },
    "id": "mciHEikUCLOI",
    "outputId": "335d29ac-e480-4356-c10a-2d0d046edf29"
   },
   "outputs": [
    {
     "data": {
      "text/plain": [
       "1553    7653\n",
       "1878    2285\n",
       "1847    1642\n",
       "1946    1533\n",
       "1602    1466\n",
       "        ... \n",
       "1771     103\n",
       "1930     102\n",
       "1135     102\n",
       "1458     102\n",
       "1879     100\n",
       "Name: landmark_id, Length: 131, dtype: int64"
      ]
     },
     "execution_count": 5,
     "metadata": {
      "tags": []
     },
     "output_type": "execute_result"
    }
   ],
   "source": [
    "#Select only id from 1000-2000 to save time\n",
    "landmark_list = [str(x) for x in list(range(1000,2000))]\n",
    "data_sample = df_filter[df_filter['landmark_id'].isin(landmark_list)]\n",
    "data_sample.landmark_id.value_counts()"
   ]
  },
  {
   "cell_type": "code",
   "execution_count": 6,
   "metadata": {
    "colab": {
     "base_uri": "https://localhost:8080/"
    },
    "id": "rXa2TIFICYpc",
    "outputId": "14bda17e-0077-49e4-83d6-15b35b52fbb3"
   },
   "outputs": [
    {
     "name": "stdout",
     "output_type": "stream",
     "text": [
      "1. URLs overwritten\n"
     ]
    }
   ],
   "source": [
    "#Ref: https://www.kaggle.com/lyakaap/fast-resized-image-download-python-3\n",
    "import re\n",
    "TARGET_SIZE = 96 #imports images of resolution 96x96\n",
    "\n",
    "'''change URLs to resize images to target size'''\n",
    "def overwrite_urls(df):\n",
    "    def reso_overwrite(url_tail, reso=TARGET_SIZE):\n",
    "        pattern = 's[0-9]+'\n",
    "        search_result = re.match(pattern, url_tail)\n",
    "        if search_result is None:\n",
    "            return url_tail\n",
    "        else:\n",
    "            return 's{}'.format(reso)\n",
    "    \n",
    "    def join_url(parsed_url, s_reso):\n",
    "        parsed_url[-2] = s_reso\n",
    "        return '/'.join(parsed_url)\n",
    "    \n",
    "    df = df[df.url.apply(lambda x: len(x.split('/'))>1)]\n",
    "    parsed_url = df.url.apply(lambda x: x.split('/'))\n",
    "    train_url_tail = parsed_url.apply(lambda x: x[-2])\n",
    "    resos = train_url_tail.apply(lambda x: reso_overwrite(x, reso=TARGET_SIZE))\n",
    "\n",
    "    overwritten_df = pd.concat([parsed_url, resos], axis=1)\n",
    "    overwritten_df.columns = ['url', 's_reso']\n",
    "    df['url'] = overwritten_df.apply(lambda x: join_url(x['url'], x['s_reso']), axis=1)\n",
    "    return df\n",
    "\n",
    "data_sample_resize = overwrite_urls(data_sample)\n",
    "print ('1. URLs overwritten')"
   ]
  },
  {
   "cell_type": "code",
   "execution_count": 7,
   "metadata": {
    "id": "3RoO9fJbCj_5"
   },
   "outputs": [],
   "source": [
    "train_dir = r'/content/drive/My Drive/APM_B10/N_train_images_model/'\n",
    "validation_dir = r'/content/drive/My Drive/APM_B10/M_validation_images_model/'\n",
    "test_dir = r'/content/drive/My Drive/APM_B10/N_test_images_from_train/'"
   ]
  },
  {
   "cell_type": "code",
   "execution_count": 8,
   "metadata": {
    "id": "otjWshEfDwZO"
   },
   "outputs": [],
   "source": [
    "import os \n",
    "import zipfile \n",
    "import tensorflow as tf \n",
    "from tensorflow.keras.preprocessing.image import ImageDataGenerator \n",
    "from tensorflow.keras.metrics import top_k_categorical_accuracy\n",
    "from tensorflow.keras import layers \n",
    "from tensorflow.keras import Model \n",
    "import matplotlib.pyplot as plt"
   ]
  },
  {
   "cell_type": "code",
   "execution_count": 9,
   "metadata": {
    "colab": {
     "base_uri": "https://localhost:8080/"
    },
    "id": "F4UiTtqdIirY",
    "outputId": "90bcccb6-91fc-4431-bb19-a0437260e2c3"
   },
   "outputs": [
    {
     "name": "stdout",
     "output_type": "stream",
     "text": [
      "Found 36475 files belonging to 131 classes.\n",
      "Found 9591 files belonging to 131 classes.\n",
      "Found 439 files belonging to 131 classes.\n"
     ]
    }
   ],
   "source": [
    "from tensorflow.keras.preprocessing import image_dataset_from_directory\n",
    "BATCH_SIZE = 240\n",
    "IMG_SIZE = (96,96)\n",
    "\n",
    "train_dataset = image_dataset_from_directory(train_dir,\n",
    "                                             labels='inferred',\n",
    "                                             label_mode='categorical',\n",
    "                                             shuffle=True,\n",
    "                                             batch_size=BATCH_SIZE,\n",
    "                                             image_size=IMG_SIZE)\n",
    "validation_dataset = image_dataset_from_directory(validation_dir,\n",
    "                                             labels='inferred',\n",
    "                                             label_mode='categorical',\n",
    "                                             shuffle=True,\n",
    "                                             batch_size=BATCH_SIZE,\n",
    "                                             image_size=IMG_SIZE)\n",
    "\n",
    "test_dataset = image_dataset_from_directory(test_dir,\n",
    "                                            labels='inferred',\n",
    "                                            label_mode='categorical',\n",
    "                                            shuffle=True,\n",
    "                                            batch_size=BATCH_SIZE,\n",
    "                                            image_size=IMG_SIZE)"
   ]
  },
  {
   "cell_type": "code",
   "execution_count": 10,
   "metadata": {
    "id": "nwaCFcY6ILc8"
   },
   "outputs": [],
   "source": [
    "AUTOTUNE = tf.data.experimental.AUTOTUNE\n",
    "\n",
    "train_dataset = train_dataset.prefetch(buffer_size=AUTOTUNE)\n",
    "validation_dataset = validation_dataset.prefetch(buffer_size=AUTOTUNE)"
   ]
  },
  {
   "cell_type": "code",
   "execution_count": 11,
   "metadata": {
    "id": "h9ub_PEtD367"
   },
   "outputs": [],
   "source": [
    "# Add our data-augmentation parameters to ImageDataGenerator\n",
    "train_datagen = ImageDataGenerator(rescale = 1./95.)\n",
    "\n",
    "# Note that the validation data should not be augmented!\n",
    "test_datagen = ImageDataGenerator(rescale = 1.0/95.)"
   ]
  },
  {
   "cell_type": "code",
   "execution_count": 12,
   "metadata": {
    "colab": {
     "base_uri": "https://localhost:8080/"
    },
    "id": "Nkh4lLhoDDNe",
    "outputId": "388361a6-5cd8-43b3-ed87-2d6ce955ce8b"
   },
   "outputs": [
    {
     "name": "stdout",
     "output_type": "stream",
     "text": [
      "Found 36475 images belonging to 131 classes.\n",
      "Found 9591 images belonging to 131 classes.\n"
     ]
    }
   ],
   "source": [
    "# Flow training images in batches of 240 using train_datagen generator\n",
    "train_generator = train_datagen.flow_from_directory(train_dir, batch_size = 240, target_size = (96, 96))\n",
    "\n",
    "# Flow validation images in batches of 240 using test_datagen generator\n",
    "validation_generator = test_datagen.flow_from_directory(validation_dir,  batch_size = 240, target_size = (96, 96))"
   ]
  },
  {
   "cell_type": "code",
   "execution_count": 13,
   "metadata": {
    "colab": {
     "base_uri": "https://localhost:8080/"
    },
    "id": "dFiaDXVJ43LR",
    "outputId": "6c6d74e9-a804-444b-9071-567951653b06"
   },
   "outputs": [
    {
     "data": {
      "text/plain": [
       "152"
      ]
     },
     "execution_count": 13,
     "metadata": {
      "tags": []
     },
     "output_type": "execute_result"
    }
   ],
   "source": [
    "len(train_generator)"
   ]
  },
  {
   "cell_type": "markdown",
   "metadata": {
    "id": "DjolaskgedCO"
   },
   "source": [
    "# Inception Model#"
   ]
  },
  {
   "cell_type": "code",
   "execution_count": 14,
   "metadata": {
    "colab": {
     "base_uri": "https://localhost:8080/"
    },
    "id": "cT_nsq_wdCwJ",
    "outputId": "5d33d3d6-36f9-48a6-de53-25a5c7c7029b"
   },
   "outputs": [
    {
     "name": "stdout",
     "output_type": "stream",
     "text": [
      "Downloading data from https://storage.googleapis.com/tensorflow/keras-applications/inception_v3/inception_v3_weights_tf_dim_ordering_tf_kernels_notop.h5\n",
      "87916544/87910968 [==============================] - 2s 0us/step\n"
     ]
    }
   ],
   "source": [
    "from tensorflow.keras.applications.inception_v3 import InceptionV3\n",
    "inception_model = InceptionV3(input_shape = (96, 96, 3), include_top = False, weights = 'imagenet')"
   ]
  },
  {
   "cell_type": "code",
   "execution_count": 15,
   "metadata": {
    "id": "17ndo64ldF5F"
   },
   "outputs": [],
   "source": [
    "for layer in inception_model.layers:\n",
    "    layer.trainable = False"
   ]
  },
  {
   "cell_type": "code",
   "execution_count": 16,
   "metadata": {
    "id": "oVhNW2frdPzx"
   },
   "outputs": [],
   "source": [
    "x = inception_model.output\n",
    "x = layers.Flatten()(x)\n",
    "x = layers.Dense(1024, activation=\"relu\")(x)\n",
    "x = layers.Dropout(0.5)(x)\n",
    "predictions = layers.Dense(131, activation=\"softmax\",name=\"predictions\")(x)\n",
    "inception_model = tf.keras.models.Model(inputs = inception_model.input, outputs = predictions)"
   ]
  },
  {
   "cell_type": "code",
   "execution_count": 17,
   "metadata": {
    "id": "jxv0eRsXdhLu"
   },
   "outputs": [],
   "source": [
    "def top_1_accuracy(y_true, y_pred):\n",
    "    return top_k_categorical_accuracy(y_true, y_pred, k=1)\n",
    "\n",
    "inception_model.compile(tf.keras.optimizers.RMSprop(lr=0.01, decay=1e-6),loss='categorical_crossentropy',metrics=[top_1_accuracy])"
   ]
  },
  {
   "cell_type": "code",
   "execution_count": 18,
   "metadata": {
    "colab": {
     "base_uri": "https://localhost:8080/"
    },
    "id": "0-PRSZ8Ddrxw",
    "outputId": "b4e46e60-8b86-4f90-e0b4-a581dcd75f8f"
   },
   "outputs": [
    {
     "name": "stderr",
     "output_type": "stream",
     "text": [
      "/usr/local/lib/python3.6/dist-packages/PIL/Image.py:932: UserWarning: Palette images with Transparency expressed in bytes should be converted to RGBA images\n",
      "  \"Palette images with Transparency expressed in bytes should be \"\n"
     ]
    },
    {
     "name": "stdout",
     "output_type": "stream",
     "text": [
      "Epoch 1/10\n",
      "20/20 [==============================] - 4238s 212s/step - loss: 26.2894 - top_1_accuracy: 0.0615 - val_loss: 4.4874 - val_top_1_accuracy: 0.0657\n",
      "Epoch 2/10\n",
      "20/20 [==============================] - 1263s 63s/step - loss: 4.8367 - top_1_accuracy: 0.0625 - val_loss: 4.4327 - val_top_1_accuracy: 0.0939\n",
      "Epoch 3/10\n",
      "20/20 [==============================] - 1105s 55s/step - loss: 4.7334 - top_1_accuracy: 0.0669 - val_loss: 4.3842 - val_top_1_accuracy: 0.1030\n",
      "Epoch 4/10\n",
      "20/20 [==============================] - 951s 48s/step - loss: 4.6007 - top_1_accuracy: 0.0917 - val_loss: 4.2664 - val_top_1_accuracy: 0.1718\n",
      "Epoch 5/10\n",
      "20/20 [==============================] - 859s 43s/step - loss: 4.5168 - top_1_accuracy: 0.1117 - val_loss: 4.3452 - val_top_1_accuracy: 0.1179\n",
      "Epoch 6/10\n",
      "20/20 [==============================] - 732s 37s/step - loss: 4.4570 - top_1_accuracy: 0.1123 - val_loss: 3.9523 - val_top_1_accuracy: 0.1875\n",
      "Epoch 7/10\n",
      "20/20 [==============================] - 620s 31s/step - loss: 4.3484 - top_1_accuracy: 0.1225 - val_loss: 4.1335 - val_top_1_accuracy: 0.1245\n",
      "Epoch 8/10\n",
      "20/20 [==============================] - 542s 27s/step - loss: 4.2909 - top_1_accuracy: 0.1300 - val_loss: 3.9616 - val_top_1_accuracy: 0.1931\n",
      "Epoch 9/10\n",
      "20/20 [==============================] - 473s 24s/step - loss: 4.2978 - top_1_accuracy: 0.1177 - val_loss: 4.0314 - val_top_1_accuracy: 0.1376\n",
      "Epoch 10/10\n",
      "20/20 [==============================] - 446s 22s/step - loss: 4.2133 - top_1_accuracy: 0.1369 - val_loss: 3.9741 - val_top_1_accuracy: 0.1927\n"
     ]
    }
   ],
   "source": [
    "inc_history = inception_model.fit(train_generator, validation_data = validation_generator, steps_per_epoch = 20, epochs = 10)"
   ]
  },
  {
   "cell_type": "code",
   "execution_count": 19,
   "metadata": {
    "colab": {
     "base_uri": "https://localhost:8080/"
    },
    "id": "byxbVVHjd3Ua",
    "outputId": "4833c59e-a5b0-4294-b63f-b955575adbe1"
   },
   "outputs": [
    {
     "name": "stdout",
     "output_type": "stream",
     "text": [
      "2/2 [==============================] - 1s 547ms/step - loss: 11.1110 - top_1_accuracy: 0.1116\n"
     ]
    }
   ],
   "source": [
    "#predictions\n",
    "loss, accuracy = inception_model.evaluate(test_dataset)"
   ]
  },
  {
   "cell_type": "code",
   "execution_count": 23,
   "metadata": {
    "colab": {
     "base_uri": "https://localhost:8080/",
     "height": 513
    },
    "id": "y9rvJwf1d_d_",
    "outputId": "ead5ac3f-e902-4f68-da79-984c5705d0ef"
   },
   "outputs": [
    {
     "data": {
      "image/png": "[encoded data removed]",
      "text/plain": [
       "<Figure size 576x576 with 2 Axes>"
      ]
     },
     "metadata": {
      "needs_background": "light",
      "tags": []
     },
     "output_type": "display_data"
    }
   ],
   "source": [
    "#loss curve\n",
    "acc = inc_history.history['top_1_accuracy']\n",
    "val_acc = inc_history.history['val_top_1_accuracy']\n",
    "\n",
    "loss = inc_history.history['loss']\n",
    "val_loss = inc_history.history['val_loss']\n",
    "\n",
    "plt.figure(figsize=(8, 8))\n",
    "plt.subplot(2, 1, 1)\n",
    "plt.plot(acc, label='Training Accuracy')\n",
    "plt.plot(val_acc, label='Validation Accuracy')\n",
    "plt.legend(loc='lower right')\n",
    "plt.ylabel('Accuracy')\n",
    "plt.ylim([min(plt.ylim()),1])\n",
    "plt.title('Training and Validation Accuracy')\n",
    "\n",
    "plt.subplot(2, 1, 2)\n",
    "plt.plot(loss, label='Training Loss')\n",
    "plt.plot(val_loss, label='Validation Loss')\n",
    "plt.legend(loc='upper right')\n",
    "plt.ylabel('Cross Entropy')\n",
    "plt.ylim([0,60.0])\n",
    "plt.title('Training and Validation Loss')\n",
    "plt.xlabel('epoch')\n",
    "plt.show()"
   ]
  },
  {
   "cell_type": "code",
   "execution_count": null,
   "metadata": {
    "colab": {
     "base_uri": "https://localhost:8080/",
     "height": 178
    },
    "id": "dU2eCr9n_qva",
    "outputId": "7e94ddb4-a123-48e9-ce13-afec3e4fbd63"
   },
   "outputs": [
    {
     "ename": "KeyboardInterrupt",
     "evalue": "ignored",
     "output_type": "error",
     "traceback": [
      "\u001b[0;31m---------------------------------------------------------------------------\u001b[0m",
      "\u001b[0;31mKeyboardInterrupt\u001b[0m                         Traceback (most recent call last)",
      "\u001b[0;32m<ipython-input-22-648a2bab0435>\u001b[0m in \u001b[0;36m<module>\u001b[0;34m()\u001b[0m\n\u001b[1;32m      1\u001b[0m \u001b[0;32mwhile\u001b[0m \u001b[0;32mTrue\u001b[0m\u001b[0;34m:\u001b[0m\u001b[0;34m\u001b[0m\u001b[0;34m\u001b[0m\u001b[0m\n\u001b[0;32m----> 2\u001b[0;31m   \u001b[0;32mpass\u001b[0m\u001b[0;34m\u001b[0m\u001b[0;34m\u001b[0m\u001b[0m\n\u001b[0m",
      "\u001b[0;31mKeyboardInterrupt\u001b[0m: "
     ]
    }
   ],
   "source": [
    "#run this cell so there is no timeout while the model running\n",
    "#while True:\n",
    "   # pass"
   ]
  }
 ],
 "metadata": {
  "accelerator": "GPU",
  "colab": {
   "collapsed_sections": [],
   "name": "Inception Model Testing",
   "provenance": []
  },
  "kernelspec": {
   "display_name": "Python 3",
   "language": "python",
   "name": "python3"
  },
  "language_info": {
   "codemirror_mode": {
    "name": "ipython",
    "version": 3
   },
   "file_extension": ".py",
   "mimetype": "text/x-python",
   "name": "python",
   "nbconvert_exporter": "python",
   "pygments_lexer": "ipython3",
   "version": "3.7.6"
  }
 },
 "nbformat": 4,
 "nbformat_minor": 1
}
