{
  "nbformat": 4,
  "nbformat_minor": 0,
  "metadata": {
    "accelerator": "GPU",
    "colab": {
      "name": "ryan_testing_on_ryan_testing_final.ipynb",
      "provenance": [],
      "collapsed_sections": []
    },
    "kernelspec": {
      "display_name": "Python 3",
      "name": "python3"
    }
  },
  "cells": [
    {
      "cell_type": "code",
      "metadata": {
        "id": "LytZ8r697AvH"
      },
      "source": [
        "from google.colab import files\n",
        "import pandas as pd\n",
        "import numpy as np"
      ],
      "execution_count": null,
      "outputs": []
    },
    {
      "cell_type": "code",
      "metadata": {
        "colab": {
          "base_uri": "https://localhost:8080/"
        },
        "id": "uIaZaTMXEvtp",
        "outputId": "8c9012ce-7a48-445d-f637-93135a3edde8"
      },
      "source": [
        "#Mount my Google drive\n",
        "from google.colab import drive\n",
        "drive.mount('/content/drive')"
      ],
      "execution_count": null,
      "outputs": [
        {
          "output_type": "stream",
          "text": [
            "Mounted at /content/drive\n"
          ],
          "name": "stdout"
        }
      ]
    },
    {
      "cell_type": "code",
      "metadata": {
        "colab": {
          "base_uri": "https://localhost:8080/",
          "height": 195
        },
        "id": "bJQd2GRD6l-0",
        "outputId": "e451c805-b868-42c7-ec97-3c239e759b68"
      },
      "source": [
        "path = \"/content/drive/My Drive/APM_B10/train.csv\"\n",
        "df = pd.read_csv(path)\n",
        "df.head()"
      ],
      "execution_count": null,
      "outputs": [
        {
          "output_type": "execute_result",
          "data": {
            "text/html": [
              "<div>\n",
              "<style scoped>\n",
              "    .dataframe tbody tr th:only-of-type {\n",
              "        vertical-align: middle;\n",
              "    }\n",
              "\n",
              "    .dataframe tbody tr th {\n",
              "        vertical-align: top;\n",
              "    }\n",
              "\n",
              "    .dataframe thead th {\n",
              "        text-align: right;\n",
              "    }\n",
              "</style>\n",
              "<table border=\"1\" class=\"dataframe\">\n",
              "  <thead>\n",
              "    <tr style=\"text-align: right;\">\n",
              "      <th></th>\n",
              "      <th>id</th>\n",
              "      <th>url</th>\n",
              "      <th>landmark_id</th>\n",
              "    </tr>\n",
              "  </thead>\n",
              "  <tbody>\n",
              "    <tr>\n",
              "      <th>0</th>\n",
              "      <td>97c0a12e07ae8dd5</td>\n",
              "      <td>http://lh4.ggpht.com/-f8xYA5l4apw/RSziSQVaABI/...</td>\n",
              "      <td>6347</td>\n",
              "    </tr>\n",
              "    <tr>\n",
              "      <th>1</th>\n",
              "      <td>650c989dd3493748</td>\n",
              "      <td>https://lh5.googleusercontent.com/-PUnMrX7oOyA...</td>\n",
              "      <td>12519</td>\n",
              "    </tr>\n",
              "    <tr>\n",
              "      <th>2</th>\n",
              "      <td>05e63ca9b2cde1f4</td>\n",
              "      <td>http://mw2.google.com/mw-panoramio/photos/medi...</td>\n",
              "      <td>264</td>\n",
              "    </tr>\n",
              "    <tr>\n",
              "      <th>3</th>\n",
              "      <td>08672eddcb2b7c93</td>\n",
              "      <td>http://lh3.ggpht.com/-9fgSxDYwhHA/SMvGEoltKTI/...</td>\n",
              "      <td>13287</td>\n",
              "    </tr>\n",
              "    <tr>\n",
              "      <th>4</th>\n",
              "      <td>fc49cb32ef7f1e89</td>\n",
              "      <td>http://lh6.ggpht.com/-UGAXxvPbr98/S-jGZbyMIPI/...</td>\n",
              "      <td>4018</td>\n",
              "    </tr>\n",
              "  </tbody>\n",
              "</table>\n",
              "</div>"
            ],
            "text/plain": [
              "                 id  ... landmark_id\n",
              "0  97c0a12e07ae8dd5  ...        6347\n",
              "1  650c989dd3493748  ...       12519\n",
              "2  05e63ca9b2cde1f4  ...         264\n",
              "3  08672eddcb2b7c93  ...       13287\n",
              "4  fc49cb32ef7f1e89  ...        4018\n",
              "\n",
              "[5 rows x 3 columns]"
            ]
          },
          "metadata": {
            "tags": []
          },
          "execution_count": 3
        }
      ]
    },
    {
      "cell_type": "code",
      "metadata": {
        "colab": {
          "base_uri": "https://localhost:8080/",
          "height": 402
        },
        "id": "GfX89f8sCBsR",
        "outputId": "42be33f3-50c5-447f-b525-918b51a4c441"
      },
      "source": [
        "filtered = df.groupby('landmark_id')['url'].filter(lambda x: len(x) >= 100)\n",
        "df_filter = df[df['url'].isin(filtered)]\n",
        "df_filter = df_filter.replace(to_replace='None', value=np.nan).dropna()\n",
        "df_filter"
      ],
      "execution_count": null,
      "outputs": [
        {
          "output_type": "execute_result",
          "data": {
            "text/html": [
              "<div>\n",
              "<style scoped>\n",
              "    .dataframe tbody tr th:only-of-type {\n",
              "        vertical-align: middle;\n",
              "    }\n",
              "\n",
              "    .dataframe tbody tr th {\n",
              "        vertical-align: top;\n",
              "    }\n",
              "\n",
              "    .dataframe thead th {\n",
              "        text-align: right;\n",
              "    }\n",
              "</style>\n",
              "<table border=\"1\" class=\"dataframe\">\n",
              "  <thead>\n",
              "    <tr style=\"text-align: right;\">\n",
              "      <th></th>\n",
              "      <th>id</th>\n",
              "      <th>url</th>\n",
              "      <th>landmark_id</th>\n",
              "    </tr>\n",
              "  </thead>\n",
              "  <tbody>\n",
              "    <tr>\n",
              "      <th>0</th>\n",
              "      <td>97c0a12e07ae8dd5</td>\n",
              "      <td>http://lh4.ggpht.com/-f8xYA5l4apw/RSziSQVaABI/...</td>\n",
              "      <td>6347</td>\n",
              "    </tr>\n",
              "    <tr>\n",
              "      <th>1</th>\n",
              "      <td>650c989dd3493748</td>\n",
              "      <td>https://lh5.googleusercontent.com/-PUnMrX7oOyA...</td>\n",
              "      <td>12519</td>\n",
              "    </tr>\n",
              "    <tr>\n",
              "      <th>2</th>\n",
              "      <td>05e63ca9b2cde1f4</td>\n",
              "      <td>http://mw2.google.com/mw-panoramio/photos/medi...</td>\n",
              "      <td>264</td>\n",
              "    </tr>\n",
              "    <tr>\n",
              "      <th>5</th>\n",
              "      <td>056708de792326b9</td>\n",
              "      <td>https://lh3.googleusercontent.com/-nbz_XT1dGz4...</td>\n",
              "      <td>5046</td>\n",
              "    </tr>\n",
              "    <tr>\n",
              "      <th>6</th>\n",
              "      <td>6ae1e206c579f649</td>\n",
              "      <td>https://lh6.googleusercontent.com/-onL5-pK9nZI...</td>\n",
              "      <td>5554</td>\n",
              "    </tr>\n",
              "    <tr>\n",
              "      <th>...</th>\n",
              "      <td>...</td>\n",
              "      <td>...</td>\n",
              "      <td>...</td>\n",
              "    </tr>\n",
              "    <tr>\n",
              "      <th>1225024</th>\n",
              "      <td>4bb5a501e5b26a6a</td>\n",
              "      <td>https://lh6.googleusercontent.com/-mRrQU3t5cYw...</td>\n",
              "      <td>9737</td>\n",
              "    </tr>\n",
              "    <tr>\n",
              "      <th>1225025</th>\n",
              "      <td>2cd8a404796cfe0e</td>\n",
              "      <td>https://lh6.googleusercontent.com/-0UB5gFx6w7M...</td>\n",
              "      <td>7758</td>\n",
              "    </tr>\n",
              "    <tr>\n",
              "      <th>1225026</th>\n",
              "      <td>8733b8b469fb8c1b</td>\n",
              "      <td>http://lh3.ggpht.com/-TDQWNVvJQDI/SI3HZSA4D3I/...</td>\n",
              "      <td>13170</td>\n",
              "    </tr>\n",
              "    <tr>\n",
              "      <th>1225027</th>\n",
              "      <td>14dd9e8790397c83</td>\n",
              "      <td>https://lh4.googleusercontent.com/-anV4Xpo0UuM...</td>\n",
              "      <td>5669</td>\n",
              "    </tr>\n",
              "    <tr>\n",
              "      <th>1225028</th>\n",
              "      <td>4303049d5a6b5602</td>\n",
              "      <td>https://lh6.googleusercontent.com/-1pe3ldzCDAw...</td>\n",
              "      <td>4987</td>\n",
              "    </tr>\n",
              "  </tbody>\n",
              "</table>\n",
              "<p>935832 rows × 3 columns</p>\n",
              "</div>"
            ],
            "text/plain": [
              "                       id  ... landmark_id\n",
              "0        97c0a12e07ae8dd5  ...        6347\n",
              "1        650c989dd3493748  ...       12519\n",
              "2        05e63ca9b2cde1f4  ...         264\n",
              "5        056708de792326b9  ...        5046\n",
              "6        6ae1e206c579f649  ...        5554\n",
              "...                   ...  ...         ...\n",
              "1225024  4bb5a501e5b26a6a  ...        9737\n",
              "1225025  2cd8a404796cfe0e  ...        7758\n",
              "1225026  8733b8b469fb8c1b  ...       13170\n",
              "1225027  14dd9e8790397c83  ...        5669\n",
              "1225028  4303049d5a6b5602  ...        4987\n",
              "\n",
              "[935832 rows x 3 columns]"
            ]
          },
          "metadata": {
            "tags": []
          },
          "execution_count": 4
        }
      ]
    },
    {
      "cell_type": "code",
      "metadata": {
        "colab": {
          "base_uri": "https://localhost:8080/"
        },
        "id": "mciHEikUCLOI",
        "outputId": "0e0cf94b-54fa-4d8c-c7ef-480ee42de875"
      },
      "source": [
        "#Select only id from 1000-2000 to save time\n",
        "landmark_list = [str(x) for x in list(range(1000,2000))]\n",
        "data_sample = df_filter[df_filter['landmark_id'].isin(landmark_list)]\n",
        "data_sample.landmark_id.value_counts()"
      ],
      "execution_count": null,
      "outputs": [
        {
          "output_type": "execute_result",
          "data": {
            "text/plain": [
              "1553    7653\n",
              "1878    2285\n",
              "1847    1642\n",
              "1946    1533\n",
              "1602    1466\n",
              "        ... \n",
              "1771     103\n",
              "1135     102\n",
              "1458     102\n",
              "1930     102\n",
              "1879     100\n",
              "Name: landmark_id, Length: 131, dtype: int64"
            ]
          },
          "metadata": {
            "tags": []
          },
          "execution_count": 5
        }
      ]
    },
    {
      "cell_type": "code",
      "metadata": {
        "colab": {
          "base_uri": "https://localhost:8080/"
        },
        "id": "rXa2TIFICYpc",
        "outputId": "d39b6901-edbd-49cf-dd22-5eca56eab693"
      },
      "source": [
        "#Ref: https://www.kaggle.com/lyakaap/fast-resized-image-download-python-3\n",
        "import re\n",
        "TARGET_SIZE = 96 #imports images of resolution 96x96\n",
        "\n",
        "'''change URLs to resize images to target size'''\n",
        "def overwrite_urls(df):\n",
        "    def reso_overwrite(url_tail, reso=TARGET_SIZE):\n",
        "        pattern = 's[0-9]+'\n",
        "        search_result = re.match(pattern, url_tail)\n",
        "        if search_result is None:\n",
        "            return url_tail\n",
        "        else:\n",
        "            return 's{}'.format(reso)\n",
        "    \n",
        "    def join_url(parsed_url, s_reso):\n",
        "        parsed_url[-2] = s_reso\n",
        "        return '/'.join(parsed_url)\n",
        "    \n",
        "    df = df[df.url.apply(lambda x: len(x.split('/'))>1)]\n",
        "    parsed_url = df.url.apply(lambda x: x.split('/'))\n",
        "    train_url_tail = parsed_url.apply(lambda x: x[-2])\n",
        "    resos = train_url_tail.apply(lambda x: reso_overwrite(x, reso=TARGET_SIZE))\n",
        "\n",
        "    overwritten_df = pd.concat([parsed_url, resos], axis=1)\n",
        "    overwritten_df.columns = ['url', 's_reso']\n",
        "    df['url'] = overwritten_df.apply(lambda x: join_url(x['url'], x['s_reso']), axis=1)\n",
        "    return df\n",
        "\n",
        "data_sample_resize = overwrite_urls(data_sample)\n",
        "print ('1. URLs overwritten')"
      ],
      "execution_count": null,
      "outputs": [
        {
          "output_type": "stream",
          "text": [
            "1. URLs overwritten\n"
          ],
          "name": "stdout"
        }
      ]
    },
    {
      "cell_type": "code",
      "metadata": {
        "id": "3RoO9fJbCj_5"
      },
      "source": [
        "train_dir = r'/content/drive/My Drive/APM_B10/N_train_images_model/'\n",
        "validation_dir = r'/content/drive/My Drive/APM_B10/M_validation_images_model/'\n",
        "test_dir = r'/content/drive/My Drive/APM_B10/N_test_images_from_train/'"
      ],
      "execution_count": null,
      "outputs": []
    },
    {
      "cell_type": "code",
      "metadata": {
        "id": "otjWshEfDwZO"
      },
      "source": [
        "import os \n",
        "import zipfile \n",
        "import tensorflow as tf \n",
        "from tensorflow.keras.preprocessing.image import ImageDataGenerator \n",
        "from tensorflow.keras.metrics import top_k_categorical_accuracy\n",
        "from tensorflow.keras import layers \n",
        "from tensorflow.keras import Model \n",
        "import matplotlib.pyplot as plt"
      ],
      "execution_count": null,
      "outputs": []
    },
    {
      "cell_type": "code",
      "metadata": {
        "colab": {
          "base_uri": "https://localhost:8080/"
        },
        "id": "F4UiTtqdIirY",
        "outputId": "5c6058fe-ad73-436a-ef59-a166fd17684b"
      },
      "source": [
        "from tensorflow.keras.preprocessing import image_dataset_from_directory\n",
        "BATCH_SIZE = 240\n",
        "IMG_SIZE = (96,96)\n",
        "\n",
        "train_dataset = image_dataset_from_directory(train_dir,\n",
        "                                             labels='inferred',\n",
        "                                             label_mode='categorical',\n",
        "                                             shuffle=True,\n",
        "                                             batch_size=BATCH_SIZE,\n",
        "                                             image_size=IMG_SIZE)\n",
        "validation_dataset = image_dataset_from_directory(validation_dir,\n",
        "                                             labels='inferred',\n",
        "                                             label_mode='categorical',\n",
        "                                             shuffle=True,\n",
        "                                             batch_size=BATCH_SIZE,\n",
        "                                             image_size=IMG_SIZE)\n",
        "\n",
        "test_dataset = image_dataset_from_directory(test_dir,\n",
        "                                            labels='inferred',\n",
        "                                            label_mode='categorical',\n",
        "                                            shuffle=True,\n",
        "                                            batch_size=BATCH_SIZE,\n",
        "                                            image_size=IMG_SIZE)"
      ],
      "execution_count": null,
      "outputs": [
        {
          "output_type": "stream",
          "text": [
            "Found 36475 files belonging to 131 classes.\n",
            "Found 9591 files belonging to 131 classes.\n",
            "Found 439 files belonging to 131 classes.\n"
          ],
          "name": "stdout"
        }
      ]
    },
    {
      "cell_type": "code",
      "metadata": {
        "id": "nwaCFcY6ILc8"
      },
      "source": [
        "AUTOTUNE = tf.data.experimental.AUTOTUNE\n",
        "\n",
        "train_dataset = train_dataset.prefetch(buffer_size=AUTOTUNE)\n",
        "validation_dataset = validation_dataset.prefetch(buffer_size=AUTOTUNE)"
      ],
      "execution_count": null,
      "outputs": []
    },
    {
      "cell_type": "code",
      "metadata": {
        "id": "h9ub_PEtD367"
      },
      "source": [
        "# Add our data-augmentation parameters to ImageDataGenerator\n",
        "train_datagen = ImageDataGenerator(rescale = 1./95.)\n",
        "\n",
        "# Note that the validation data should not be augmented!\n",
        "test_datagen = ImageDataGenerator(rescale = 1.0/95.)"
      ],
      "execution_count": null,
      "outputs": []
    },
    {
      "cell_type": "code",
      "metadata": {
        "colab": {
          "base_uri": "https://localhost:8080/"
        },
        "id": "Nkh4lLhoDDNe",
        "outputId": "d90d88da-4f45-4b22-8964-c6f82ec89505"
      },
      "source": [
        "# Flow training images in batches of 20 using train_datagen generator\n",
        "train_generator = train_datagen.flow_from_directory(train_dir, batch_size = 240, target_size = (96, 96))\n",
        "\n",
        "# Flow validation images in batches of 20 using test_datagen generator\n",
        "validation_generator = test_datagen.flow_from_directory(validation_dir,  batch_size = 240, target_size = (96, 96))"
      ],
      "execution_count": null,
      "outputs": [
        {
          "output_type": "stream",
          "text": [
            "Found 36475 images belonging to 131 classes.\n",
            "Found 9591 images belonging to 131 classes.\n"
          ],
          "name": "stdout"
        }
      ]
    },
    {
      "cell_type": "code",
      "metadata": {
        "colab": {
          "base_uri": "https://localhost:8080/"
        },
        "id": "dFiaDXVJ43LR",
        "outputId": "8afa599a-5499-4d80-c044-e1e83cbb837a"
      },
      "source": [
        "len(train_generator)"
      ],
      "execution_count": null,
      "outputs": [
        {
          "output_type": "execute_result",
          "data": {
            "text/plain": [
              "152"
            ]
          },
          "metadata": {
            "tags": []
          },
          "execution_count": 13
        }
      ]
    },
    {
      "cell_type": "markdown",
      "metadata": {
        "id": "PVK2Jgfx0ceB"
      },
      "source": [
        "# EfficientNet"
      ]
    },
    {
      "cell_type": "code",
      "metadata": {
        "colab": {
          "base_uri": "https://localhost:8080/"
        },
        "id": "Zv9jJvbi1HMp",
        "outputId": "3d55f010-22f8-416b-b7de-72c647bdfdb1"
      },
      "source": [
        "!pip install efficientnet\n",
        "import efficientnet.keras as efn"
      ],
      "execution_count": null,
      "outputs": [
        {
          "output_type": "stream",
          "text": [
            "Collecting efficientnet\n",
            "  Downloading https://files.pythonhosted.org/packages/53/97/84f88e581d6ac86dcf1ab347c497c4c568c38784e3a2bd659b96912ab793/efficientnet-1.1.1-py3-none-any.whl\n",
            "Requirement already satisfied: scikit-image in /usr/local/lib/python3.6/dist-packages (from efficientnet) (0.16.2)\n",
            "Collecting keras-applications<=1.0.8,>=1.0.7\n",
            "\u001b[?25l  Downloading https://files.pythonhosted.org/packages/71/e3/19762fdfc62877ae9102edf6342d71b28fbfd9dea3d2f96a882ce099b03f/Keras_Applications-1.0.8-py3-none-any.whl (50kB)\n",
            "\u001b[K     |████████████████████████████████| 51kB 4.2MB/s \n",
            "\u001b[?25hRequirement already satisfied: PyWavelets>=0.4.0 in /usr/local/lib/python3.6/dist-packages (from scikit-image->efficientnet) (1.1.1)\n",
            "Requirement already satisfied: matplotlib!=3.0.0,>=2.0.0 in /usr/local/lib/python3.6/dist-packages (from scikit-image->efficientnet) (3.2.2)\n",
            "Requirement already satisfied: pillow>=4.3.0 in /usr/local/lib/python3.6/dist-packages (from scikit-image->efficientnet) (7.0.0)\n",
            "Requirement already satisfied: imageio>=2.3.0 in /usr/local/lib/python3.6/dist-packages (from scikit-image->efficientnet) (2.4.1)\n",
            "Requirement already satisfied: scipy>=0.19.0 in /usr/local/lib/python3.6/dist-packages (from scikit-image->efficientnet) (1.4.1)\n",
            "Requirement already satisfied: networkx>=2.0 in /usr/local/lib/python3.6/dist-packages (from scikit-image->efficientnet) (2.5)\n",
            "Requirement already satisfied: h5py in /usr/local/lib/python3.6/dist-packages (from keras-applications<=1.0.8,>=1.0.7->efficientnet) (2.10.0)\n",
            "Requirement already satisfied: numpy>=1.9.1 in /usr/local/lib/python3.6/dist-packages (from keras-applications<=1.0.8,>=1.0.7->efficientnet) (1.18.5)\n",
            "Requirement already satisfied: kiwisolver>=1.0.1 in /usr/local/lib/python3.6/dist-packages (from matplotlib!=3.0.0,>=2.0.0->scikit-image->efficientnet) (1.3.1)\n",
            "Requirement already satisfied: pyparsing!=2.0.4,!=2.1.2,!=2.1.6,>=2.0.1 in /usr/local/lib/python3.6/dist-packages (from matplotlib!=3.0.0,>=2.0.0->scikit-image->efficientnet) (2.4.7)\n",
            "Requirement already satisfied: python-dateutil>=2.1 in /usr/local/lib/python3.6/dist-packages (from matplotlib!=3.0.0,>=2.0.0->scikit-image->efficientnet) (2.8.1)\n",
            "Requirement already satisfied: cycler>=0.10 in /usr/local/lib/python3.6/dist-packages (from matplotlib!=3.0.0,>=2.0.0->scikit-image->efficientnet) (0.10.0)\n",
            "Requirement already satisfied: decorator>=4.3.0 in /usr/local/lib/python3.6/dist-packages (from networkx>=2.0->scikit-image->efficientnet) (4.4.2)\n",
            "Requirement already satisfied: six in /usr/local/lib/python3.6/dist-packages (from h5py->keras-applications<=1.0.8,>=1.0.7->efficientnet) (1.15.0)\n",
            "Installing collected packages: keras-applications, efficientnet\n",
            "Successfully installed efficientnet-1.1.1 keras-applications-1.0.8\n"
          ],
          "name": "stdout"
        }
      ]
    },
    {
      "cell_type": "code",
      "metadata": {
        "id": "hOE5nrUQ1Nzr",
        "colab": {
          "base_uri": "https://localhost:8080/"
        },
        "outputId": "5f8acf69-3daa-472e-fd74-228a79e16397"
      },
      "source": [
        "model4 = efn.EfficientNetB0(input_shape = (96, 96, 3), include_top = False, weights = 'imagenet')\n",
        "for layer in model4.layers:\n",
        "    layer.trainable = False"
      ],
      "execution_count": null,
      "outputs": [
        {
          "output_type": "stream",
          "text": [
            "Downloading data from https://github.com/Callidior/keras-applications/releases/download/efficientnet/efficientnet-b0_weights_tf_dim_ordering_tf_kernels_autoaugment_notop.h5\n",
            "16809984/16804768 [==============================] - 1s 0us/step\n"
          ],
          "name": "stdout"
        }
      ]
    },
    {
      "cell_type": "code",
      "metadata": {
        "id": "IEoOLrgn1URK"
      },
      "source": [
        "x = model4.output\n",
        "x = layers.Flatten()(x)\n",
        "x = layers.Dense(1024, activation=\"relu\")(x)\n",
        "x = layers.Dropout(0.5)(x)\n",
        "predictions = layers.Dense(131, activation=\"softmax\",name=\"predictions\")(x)\n",
        "model4 = tf.keras.models.Model(inputs = model4.input, outputs = predictions)"
      ],
      "execution_count": null,
      "outputs": []
    },
    {
      "cell_type": "code",
      "metadata": {
        "id": "LchmPHVW1YRo"
      },
      "source": [
        "def top_1_accuracy(y_true, y_pred):\r\n",
        "    return top_k_categorical_accuracy(y_true, y_pred, k=1)\r\n",
        "\r\n",
        "model4.compile(tf.keras.optimizers.RMSprop(lr=0.01, decay=1e-6),loss='categorical_crossentropy',metrics=[top_1_accuracy])"
      ],
      "execution_count": null,
      "outputs": []
    },
    {
      "cell_type": "code",
      "metadata": {
        "colab": {
          "base_uri": "https://localhost:8080/"
        },
        "id": "-Wgac9gR1cXV",
        "outputId": "7b59351e-f6e3-402f-d4b3-d65bfd5bfc72"
      },
      "source": [
        "eff_hist = model4.fit(train_generator, validation_data = validation_generator, steps_per_epoch = 20, epochs = 10) #steps_per_epoch ideally 150, took too long"
      ],
      "execution_count": null,
      "outputs": [
        {
          "output_type": "stream",
          "text": [
            "Epoch 1/10\n",
            " 7/20 [=========>....................] - ETA: 19:36 - loss: 67.1523 - top_1_accuracy: 0.1482"
          ],
          "name": "stdout"
        },
        {
          "output_type": "stream",
          "text": [
            "/usr/local/lib/python3.6/dist-packages/PIL/Image.py:932: UserWarning: Palette images with Transparency expressed in bytes should be converted to RGBA images\n",
            "  \"Palette images with Transparency expressed in bytes should be \"\n"
          ],
          "name": "stderr"
        },
        {
          "output_type": "stream",
          "text": [
            "20/20 [==============================] - 5473s 274s/step - loss: 26.2086 - top_1_accuracy: 0.2400 - val_loss: 2.9145 - val_top_1_accuracy: 0.4724\n",
            "Epoch 2/10\n",
            "20/20 [==============================] - 1405s 70s/step - loss: 3.5814 - top_1_accuracy: 0.3760 - val_loss: 2.7256 - val_top_1_accuracy: 0.4994\n",
            "Epoch 3/10\n",
            "20/20 [==============================] - 1209s 60s/step - loss: 3.6084 - top_1_accuracy: 0.3858 - val_loss: 2.6070 - val_top_1_accuracy: 0.5168\n",
            "Epoch 4/10\n",
            "20/20 [==============================] - 1036s 52s/step - loss: 3.5364 - top_1_accuracy: 0.4092 - val_loss: 2.5221 - val_top_1_accuracy: 0.5501\n",
            "Epoch 5/10\n",
            "20/20 [==============================] - 915s 46s/step - loss: 3.6088 - top_1_accuracy: 0.4317 - val_loss: 2.5585 - val_top_1_accuracy: 0.5657\n",
            "Epoch 6/10\n",
            "20/20 [==============================] - 780s 39s/step - loss: 3.6168 - top_1_accuracy: 0.4348 - val_loss: 2.3941 - val_top_1_accuracy: 0.5799\n",
            "Epoch 7/10\n",
            "20/20 [==============================] - 683s 34s/step - loss: 3.3105 - top_1_accuracy: 0.4427 - val_loss: 2.4146 - val_top_1_accuracy: 0.5911\n",
            "Epoch 8/10\n",
            "20/20 [==============================] - 589s 29s/step - loss: 3.7367 - top_1_accuracy: 0.4510 - val_loss: 2.4290 - val_top_1_accuracy: 0.5903\n",
            "Epoch 9/10\n",
            "20/20 [==============================] - 508s 25s/step - loss: 3.4264 - top_1_accuracy: 0.4492 - val_loss: 2.4537 - val_top_1_accuracy: 0.5850\n",
            "Epoch 10/10\n",
            "20/20 [==============================] - 442s 22s/step - loss: 3.5173 - top_1_accuracy: 0.4585 - val_loss: 2.5483 - val_top_1_accuracy: 0.5808\n"
          ],
          "name": "stdout"
        }
      ]
    },
    {
      "cell_type": "code",
      "metadata": {
        "colab": {
          "base_uri": "https://localhost:8080/"
        },
        "id": "NvQevZM2WfCT",
        "outputId": "d1555c40-dec1-434e-91fd-32ab2d51756b"
      },
      "source": [
        "#predictions\n",
        "loss, accuracy = model4.evaluate(test_dataset)"
      ],
      "execution_count": null,
      "outputs": [
        {
          "output_type": "stream",
          "text": [
            "2/2 [==============================] - 1s 269ms/step - loss: 534819.1875 - top_1_accuracy: 0.1686\n"
          ],
          "name": "stdout"
        }
      ]
    },
    {
      "cell_type": "code",
      "metadata": {
        "colab": {
          "base_uri": "https://localhost:8080/",
          "height": 513
        },
        "id": "9fVV1PawWYej",
        "outputId": "41c2dc6c-db41-437e-dbbd-6ffb9435c6f1"
      },
      "source": [
        "#loss curve\n",
        "acc = eff_hist.history['top_1_accuracy']\n",
        "val_acc = eff_hist.history['val_top_1_accuracy']\n",
        "\n",
        "loss = eff_hist.history['loss']\n",
        "val_loss = eff_hist.history['val_loss']\n",
        "\n",
        "plt.figure(figsize=(8, 8))\n",
        "plt.subplot(2, 1, 1)\n",
        "plt.plot(acc, label='Training Accuracy')\n",
        "plt.plot(val_acc, label='Validation Accuracy')\n",
        "plt.legend(loc='lower right')\n",
        "plt.ylabel('Accuracy')\n",
        "plt.ylim([min(plt.ylim()),1])\n",
        "plt.title('Training and Validation Accuracy')\n",
        "\n",
        "plt.subplot(2, 1, 2)\n",
        "plt.plot(loss, label='Training Loss')\n",
        "plt.plot(val_loss, label='Validation Loss')\n",
        "plt.legend(loc='upper right')\n",
        "plt.ylabel('Cross Entropy')\n",
        "plt.ylim([0,100.0])\n",
        "plt.title('Training and Validation Loss')\n",
        "plt.xlabel('epoch')\n",
        "plt.show()"
      ],
      "execution_count": null,
      "outputs": [
        {
          "output_type": "display_data",
          "data": {
            "image/png": "[encoded data removed]",
            "text/plain": [
              "<Figure size 576x576 with 2 Axes>"
            ]
          },
          "metadata": {
            "tags": [],
            "needs_background": "light"
          }
        }
      ]
    },
    {
      "cell_type": "code",
      "metadata": {
        "id": "RNA6NXZt_qIL"
      },
      "source": [
        "model4.save_weights('model4.h5')"
      ],
      "execution_count": null,
      "outputs": []
    },
    {
      "cell_type": "code",
      "metadata": {
        "colab": {
          "base_uri": "https://localhost:8080/",
          "height": 178
        },
        "id": "dU2eCr9n_qva",
        "outputId": "7e94ddb4-a123-48e9-ce13-afec3e4fbd63"
      },
      "source": [
        "while True:\r\n",
        "  pass"
      ],
      "execution_count": null,
      "outputs": [
        {
          "output_type": "error",
          "ename": "KeyboardInterrupt",
          "evalue": "ignored",
          "traceback": [
            "\u001b[0;31m---------------------------------------------------------------------------\u001b[0m",
            "\u001b[0;31mKeyboardInterrupt\u001b[0m                         Traceback (most recent call last)",
            "\u001b[0;32m<ipython-input-22-648a2bab0435>\u001b[0m in \u001b[0;36m<module>\u001b[0;34m()\u001b[0m\n\u001b[1;32m      1\u001b[0m \u001b[0;32mwhile\u001b[0m \u001b[0;32mTrue\u001b[0m\u001b[0;34m:\u001b[0m\u001b[0;34m\u001b[0m\u001b[0;34m\u001b[0m\u001b[0m\n\u001b[0;32m----> 2\u001b[0;31m   \u001b[0;32mpass\u001b[0m\u001b[0;34m\u001b[0m\u001b[0;34m\u001b[0m\u001b[0m\n\u001b[0m",
            "\u001b[0;31mKeyboardInterrupt\u001b[0m: "
          ]
        }
      ]
    }
  ]
}